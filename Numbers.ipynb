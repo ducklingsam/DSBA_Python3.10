{
  "nbformat": 4,
  "nbformat_minor": 0,
  "metadata": {
    "colab": {
      "provenance": [],
      "toc_visible": true
    },
    "kernelspec": {
      "name": "python3",
      "display_name": "Python 3"
    },
    "language_info": {
      "name": "python"
    }
  },
  "cells": [
    {
      "cell_type": "markdown",
      "source": [
        "Please check that your Python version is 3.10+"
      ],
      "metadata": {
        "id": "jbH6MqCpSVau"
      }
    },
    {
      "cell_type": "code",
      "source": [
        "!python --version"
      ],
      "metadata": {
        "colab": {
          "base_uri": "https://localhost:8080/"
        },
        "id": "n-fPPkQ3PGrX",
        "outputId": "00b40b63-4a4e-4fdb-bb64-4143b93cee1b"
      },
      "execution_count": null,
      "outputs": [
        {
          "output_type": "stream",
          "name": "stdout",
          "text": [
            "Python 3.10.11\n"
          ]
        }
      ]
    },
    {
      "cell_type": "markdown",
      "source": [
        "If not, upgrade your Python version with terminal or Conda. (It is so easy to Google it, if you don't know how)\n",
        "\n",
        "Or you can use Google Colab, which has the newest version of Python."
      ],
      "metadata": {
        "id": "5RwFHy7BSlRH"
      }
    },
    {
      "cell_type": "markdown",
      "source": [
        "# Lesson 2. Numbers and Conditionals\n",
        "\n",
        "Today we are going to study the numbers and conditionals in Python 3.10"
      ],
      "metadata": {
        "id": "9NUaJ3WqJgRn"
      }
    },
    {
      "cell_type": "markdown",
      "source": [
        "## Theory "
      ],
      "metadata": {
        "id": "qWxtmme2JnXh"
      }
    },
    {
      "cell_type": "markdown",
      "source": [
        "What basic kinds of numbers do we have? That's right, whole numbers and fractional numbers. Let's look at them"
      ],
      "metadata": {
        "id": "vgejJWURJ4s6"
      }
    },
    {
      "cell_type": "markdown",
      "source": [
        "### Numbers"
      ],
      "metadata": {
        "id": "Gtu1XsIlOybH"
      }
    },
    {
      "cell_type": "markdown",
      "source": [
        "**Integer**"
      ],
      "metadata": {
        "id": "GadvNqhOLVUm"
      }
    },
    {
      "cell_type": "code",
      "execution_count": null,
      "metadata": {
        "id": "FvfZiZXaQ5Ll",
        "colab": {
          "base_uri": "https://localhost:8080/"
        },
        "outputId": "db4ccdf4-9b42-4a46-dabf-0f2d9bcec475"
      },
      "outputs": [
        {
          "output_type": "stream",
          "name": "stdout",
          "text": [
            "value: 10\n",
            "type: <class 'int'>\n"
          ]
        }
      ],
      "source": [
        "my_int = 10\n",
        "print(f\"value: {my_int}\\ntype: {type(my_int)}\")"
      ]
    },
    {
      "cell_type": "markdown",
      "source": [
        "**Fractions (Double or Float)**"
      ],
      "metadata": {
        "id": "SHDCHqXkLYPD"
      }
    },
    {
      "cell_type": "code",
      "source": [
        "my_float = 9.5\n",
        "print(f\"value: {my_float}\\ntype: {type(my_float)}\")"
      ],
      "metadata": {
        "colab": {
          "base_uri": "https://localhost:8080/"
        },
        "id": "rKri15IALbeA",
        "outputId": "9339031d-7371-4c25-ecad-ee8c0cd2d717"
      },
      "execution_count": null,
      "outputs": [
        {
          "output_type": "stream",
          "name": "stdout",
          "text": [
            "value: 9.5\n",
            "type: <class 'float'>\n"
          ]
        }
      ]
    },
    {
      "cell_type": "markdown",
      "source": [
        "Note that division of ints produces float"
      ],
      "metadata": {
        "id": "FDRa1bV3LlR4"
      }
    },
    {
      "cell_type": "code",
      "source": [
        "6/2"
      ],
      "metadata": {
        "colab": {
          "base_uri": "https://localhost:8080/"
        },
        "id": "GeGQBtwPLogO",
        "outputId": "1ec278e8-4dbf-4b51-d970-107c55f4ff3a"
      },
      "execution_count": null,
      "outputs": [
        {
          "output_type": "execute_result",
          "data": {
            "text/plain": [
              "3.0"
            ]
          },
          "metadata": {},
          "execution_count": 5
        }
      ]
    },
    {
      "cell_type": "markdown",
      "source": [
        "Also beware of the binary floating-point pitfalls (we will deal with it later)"
      ],
      "metadata": {
        "id": "qRPGB1pSLuVE"
      }
    },
    {
      "cell_type": "code",
      "source": [
        "val = 0.1 + 0.1 + 0.1\n",
        "print(val == 0.3)\n",
        "print(val)"
      ],
      "metadata": {
        "colab": {
          "base_uri": "https://localhost:8080/"
        },
        "id": "yQ4V3s4VLz6U",
        "outputId": "b0be70b4-02a1-479f-ea95-745acf7180d5"
      },
      "execution_count": null,
      "outputs": [
        {
          "output_type": "stream",
          "name": "stdout",
          "text": [
            "False\n",
            "0.30000000000000004\n"
          ]
        }
      ]
    },
    {
      "cell_type": "markdown",
      "source": [
        "**Floor division //, modulus % and power**"
      ],
      "metadata": {
        "id": "7r8YSkjSMItb"
      }
    },
    {
      "cell_type": "code",
      "source": [
        "print(6 // 3)\n",
        "print(7 // 5)"
      ],
      "metadata": {
        "colab": {
          "base_uri": "https://localhost:8080/"
        },
        "id": "qGswAThYMMJZ",
        "outputId": "d9c76649-2c8a-4cb6-cc18-3fb41e1a4a6d"
      },
      "execution_count": null,
      "outputs": [
        {
          "output_type": "stream",
          "name": "stdout",
          "text": [
            "2\n",
            "1\n"
          ]
        }
      ]
    },
    {
      "cell_type": "code",
      "source": [
        "10 % 6 # 10 - 6 * 1 = 4"
      ],
      "metadata": {
        "colab": {
          "base_uri": "https://localhost:8080/"
        },
        "id": "Dr6319YLMgU9",
        "outputId": "1e7cef19-f9eb-4ef3-fca0-3ef3fdc94d13"
      },
      "execution_count": null,
      "outputs": [
        {
          "output_type": "execute_result",
          "data": {
            "text/plain": [
              "4"
            ]
          },
          "metadata": {},
          "execution_count": 10
        }
      ]
    },
    {
      "cell_type": "code",
      "source": [
        "2 ** 3"
      ],
      "metadata": {
        "colab": {
          "base_uri": "https://localhost:8080/"
        },
        "id": "c-0timPAMqMm",
        "outputId": "b619d3d9-8dfc-4e15-d5de-6fe036886f88"
      },
      "execution_count": null,
      "outputs": [
        {
          "output_type": "execute_result",
          "data": {
            "text/plain": [
              "8"
            ]
          },
          "metadata": {},
          "execution_count": 11
        }
      ]
    },
    {
      "cell_type": "markdown",
      "source": [
        "As we have mentioned earlier, there are some problems with dealing with decimals. So, there is a special library called Decimal, which helps us to avoid all the problems"
      ],
      "metadata": {
        "id": "51yQj_rNM4UQ"
      }
    },
    {
      "cell_type": "markdown",
      "source": [
        "**decimal.Decimal**"
      ],
      "metadata": {
        "id": "RKvjG61mNGVy"
      }
    },
    {
      "cell_type": "code",
      "source": [
        "from decimal import Decimal\n",
        "\n",
        "from_float = Decimal(0.1) # we can convert from float\n",
        "from_str = Decimal(\"0.1\") # or from string\n",
        "\n",
        "sum_of_str = from_str + from_str + from_str\n",
        "sum_of_float = from_float + from_float + from_float\n",
        "\n",
        "print(sum_of_str == Decimal(\"0.3\"))\n",
        "print(sum_of_float == Decimal(0.3))\n",
        "print(sum_of_float)"
      ],
      "metadata": {
        "colab": {
          "base_uri": "https://localhost:8080/"
        },
        "id": "WEc2yFoDNKW3",
        "outputId": "e7504093-38c4-428f-b060-f66d24fb240c"
      },
      "execution_count": null,
      "outputs": [
        {
          "output_type": "stream",
          "name": "stdout",
          "text": [
            "True\n",
            "False\n",
            "0.3000000000000000166533453694\n"
          ]
        }
      ]
    },
    {
      "cell_type": "markdown",
      "source": [
        "As we can see, the best way to add decimals is to convert them from string"
      ],
      "metadata": {
        "id": "XY8XZUbiOAhk"
      }
    },
    {
      "cell_type": "markdown",
      "source": [
        "### Conditionals"
      ],
      "metadata": {
        "id": "gZ6Ro7GUO2CU"
      }
    },
    {
      "cell_type": "markdown",
      "source": [
        "Let's introduce new type of variable: **bool**. Bool is a logical variable which can be either True or False. "
      ],
      "metadata": {
        "id": "IOg3TmkwO5tP"
      }
    },
    {
      "cell_type": "code",
      "source": [
        "print(bool(1))\n",
        "print(bool(0))\n",
        "print(bool(5))"
      ],
      "metadata": {
        "colab": {
          "base_uri": "https://localhost:8080/"
        },
        "id": "pNH2bOVzO87N",
        "outputId": "0f897e13-61ba-4ed8-f94c-98d348b9aed5"
      },
      "execution_count": null,
      "outputs": [
        {
          "output_type": "stream",
          "name": "stdout",
          "text": [
            "True\n",
            "False\n",
            "True\n"
          ]
        }
      ]
    },
    {
      "cell_type": "markdown",
      "source": [
        "As we can see, if int is 0, then bool variable is **False**, otherwise it is **True**."
      ],
      "metadata": {
        "id": "rsaEVh7uQNWG"
      }
    },
    {
      "cell_type": "markdown",
      "source": [
        "**==, !=, <, >, <=, >=**"
      ],
      "metadata": {
        "id": "bVtvPwDrQd7T"
      }
    },
    {
      "cell_type": "markdown",
      "source": [
        "All of those are made to compare variables. \n",
        "\n",
        "\n",
        "*   Is equal to - ==\n",
        "*   Is NOT equal to - !=\n",
        "*   Less than - <\n",
        "* More than - >\n",
        "* Less or equal - <=\n",
        "* More or equal - >=\n",
        "\n"
      ],
      "metadata": {
        "id": "_WiPB5dIQkBA"
      }
    },
    {
      "cell_type": "code",
      "source": [
        "print(2 > 1)\n",
        "print(2 < 1)\n",
        "print(2 == 1)\n",
        "print(2 != 1)"
      ],
      "metadata": {
        "colab": {
          "base_uri": "https://localhost:8080/"
        },
        "id": "cKFuUfiIQYV7",
        "outputId": "5140f674-832f-4eaf-b871-06b1934995ab"
      },
      "execution_count": null,
      "outputs": [
        {
          "output_type": "stream",
          "name": "stdout",
          "text": [
            "True\n",
            "False\n",
            "False\n",
            "True\n"
          ]
        }
      ]
    },
    {
      "cell_type": "markdown",
      "source": [
        "However, we can compare not only numbers, but strings (or letters)"
      ],
      "metadata": {
        "id": "soKh90ZKQ_ck"
      }
    },
    {
      "cell_type": "code",
      "source": [
        "print(\"hello\" == \"Hello\")\n",
        "print(\"world\" == \"world\")\n",
        "print('a' < 'b')\n",
        "print('A' != 'a')"
      ],
      "metadata": {
        "colab": {
          "base_uri": "https://localhost:8080/"
        },
        "id": "sz6l_kqpRE8x",
        "outputId": "0033ac4f-6d32-47ed-80b3-ffe200514d44"
      },
      "execution_count": null,
      "outputs": [
        {
          "output_type": "stream",
          "name": "stdout",
          "text": [
            "False\n",
            "True\n",
            "True\n",
            "True\n"
          ]
        }
      ]
    },
    {
      "cell_type": "markdown",
      "source": [
        "Comparing the chars or strings is **case-sensitive**. And to know what result will exactly be, look at the ASCII characters table"
      ],
      "metadata": {
        "id": "4sqjvRoVRPTb"
      }
    },
    {
      "cell_type": "markdown",
      "source": [
        "You can even combine different compartions in one row."
      ],
      "metadata": {
        "id": "6CArWXvWRj6W"
      }
    },
    {
      "cell_type": "code",
      "source": [
        "1 < 2 < 3"
      ],
      "metadata": {
        "colab": {
          "base_uri": "https://localhost:8080/"
        },
        "id": "cH44SwziRpYv",
        "outputId": "fd9b28e5-1b68-4a3e-dd17-76a8d6414fd2"
      },
      "execution_count": null,
      "outputs": [
        {
          "output_type": "execute_result",
          "data": {
            "text/plain": [
              "True"
            ]
          },
          "metadata": {},
          "execution_count": 30
        }
      ]
    },
    {
      "cell_type": "markdown",
      "source": [
        "**and, or, not**"
      ],
      "metadata": {
        "id": "jWqS-EvXRvWI"
      }
    },
    {
      "cell_type": "markdown",
      "source": [
        "I guess you have no problems with the beginning of Discrete Mathematics course, so you will understand the following piece of code in seconds"
      ],
      "metadata": {
        "id": "J9C9-_ivR9l2"
      }
    },
    {
      "cell_type": "code",
      "source": [
        "always_true = True\n",
        "not_true = False\n",
        "print(always_true and not_true) # True and False == False\n",
        "print(always_true or not_true) # True or False == True\n",
        "print(not not_true) # not False == True"
      ],
      "metadata": {
        "colab": {
          "base_uri": "https://localhost:8080/"
        },
        "id": "yyK2z2IERxc5",
        "outputId": "41043844-53da-4158-d3db-c82f3b8102db"
      },
      "execution_count": null,
      "outputs": [
        {
          "output_type": "stream",
          "name": "stdout",
          "text": [
            "False\n",
            "True\n",
            "True\n"
          ]
        }
      ]
    },
    {
      "cell_type": "markdown",
      "source": [
        "Now we are ready to start talking about Conditionals. We have basic if, elif (else if), else\n",
        "\n",
        "However, there is a new option for you. Match-case! (Only working at Python3.10+)"
      ],
      "metadata": {
        "id": "TmESbaPkTSDH"
      }
    },
    {
      "cell_type": "code",
      "source": [
        "one = 1\n",
        "two = 2\n",
        "\n",
        "'''\n",
        "this is how we input integers\n",
        "you can change int into Decimal or float\n",
        "'''\n",
        "num = int(input()) \n",
        "\n",
        "if num == 1:\n",
        "  print(\"You have entered 1!\")\n",
        "elif num == 2:\n",
        "  print(\"You have entered 2!\")\n",
        "else:\n",
        "  print(\"Your number is NOT 1 or 2\")\n",
        "\n",
        "match num:\n",
        "  case 1:\n",
        "    print(\"Yes, it is 1 for sure\")\n",
        "  case 2:\n",
        "    print(\"No hesitation, it's 2\")\n",
        "  case _:\n",
        "    print(\"Why did you write it?\")"
      ],
      "metadata": {
        "colab": {
          "base_uri": "https://localhost:8080/"
        },
        "id": "Qu8zhUqHT9kE",
        "outputId": "d2b563f4-6ff0-416c-8233-e1a49f853faa"
      },
      "execution_count": null,
      "outputs": [
        {
          "output_type": "stream",
          "name": "stdout",
          "text": [
            "5\n",
            "Your number is NOT 1 or 2\n",
            "Why did you write it?\n"
          ]
        }
      ]
    },
    {
      "cell_type": "markdown",
      "source": [
        "I guess, there is no need to comment what is happening, just examine it\n",
        "\n",
        "We can see, that\n",
        "\n",
        "```\n",
        "case _:\n",
        "```\n",
        "and\n",
        "\n",
        "```\n",
        "else:\n",
        "```\n",
        "are the same\n",
        "\n",
        "However, it is not mandatory to write (else) or (case _).\n"
      ],
      "metadata": {
        "id": "A4PFXaO1VPVP"
      }
    },
    {
      "cell_type": "markdown",
      "source": [
        "## Practice"
      ],
      "metadata": {
        "id": "bO-13dfbWFOV"
      }
    },
    {
      "cell_type": "markdown",
      "source": [
        "### 1. Formula"
      ],
      "metadata": {
        "id": "_fz90IUVtizq"
      }
    },
    {
      "cell_type": "markdown",
      "source": [
        "Write the following formula in Python, handling all cases. If answer is uncertain, return -1\n",
        "\\begin{align}\n",
        " result = 6a^3 - \\frac{8b^2 }{4c} + 11\n",
        "\\end{align}"
      ],
      "metadata": {
        "id": "x-rNc8PVtnry"
      }
    },
    {
      "cell_type": "code",
      "source": [
        "def formula(a, b, c):\n",
        "  result = # your code here\n",
        "  return result"
      ],
      "metadata": {
        "id": "jCAuV3QkuajJ"
      },
      "execution_count": null,
      "outputs": []
    },
    {
      "cell_type": "markdown",
      "source": [
        "Check"
      ],
      "metadata": {
        "id": "Yddpwm-Uuh2N"
      }
    },
    {
      "cell_type": "code",
      "source": [
        "assert formula(2, 3, 2) == 50\n",
        "assert formula(2, 1, 0) == -1\n",
        "assert formula(0, 0, 1) == 11"
      ],
      "metadata": {
        "id": "jcRDEiFMuhjK"
      },
      "execution_count": null,
      "outputs": []
    },
    {
      "cell_type": "markdown",
      "source": [
        "### 2. Name Length "
      ],
      "metadata": {
        "id": "gNaDO6_Wvzjr"
      }
    },
    {
      "cell_type": "markdown",
      "source": [
        "Fill missing pieces (____) of the following code such that prints make sense."
      ],
      "metadata": {
        "id": "GhORLTw4v62L"
      }
    },
    {
      "cell_type": "code",
      "source": [
        "def len_name(name):\n",
        "  if ____:\n",
        "    print(f'Name \"{name}\" is more than 20 chars long')\n",
        "    length_description = 5\n",
        "  elif ____:\n",
        "    print(f'Name \"{name}\" is more than 15 chars long')\n",
        "    length_description = 4\n",
        "  elif ____:\n",
        "    print(f'Name \"{name}\" is more than 10 chars long')\n",
        "    length_description = 3\n",
        "  elif ____:\n",
        "    print(f'Name \"{name}\" is 8, 9 or 10 chars long')\n",
        "    length_description = 2\n",
        "  else:\n",
        "    print(f'Name \"{name}\" is a short name')\n",
        "    length_description = 1\n",
        "  return length_description"
      ],
      "metadata": {
        "id": "k_L8pfo6v_ik"
      },
      "execution_count": null,
      "outputs": []
    },
    {
      "cell_type": "markdown",
      "source": [
        "Check"
      ],
      "metadata": {
        "id": "f7TnGLiowUAV"
      }
    },
    {
      "cell_type": "code",
      "source": [
        "assert len_name(\"Python\") == 1\n",
        "assert len_name(\"lalalalalalalalalblablabla\") == 5\n",
        "assert len_name(\"Skryptonite\") == 4\n",
        "assert len_name(\"sammooree\") == 2"
      ],
      "metadata": {
        "id": "s-_-O5IGwZV2"
      },
      "execution_count": null,
      "outputs": []
    },
    {
      "cell_type": "markdown",
      "source": [
        "### 3. Absolute value"
      ],
      "metadata": {
        "id": "uo9Q27UfxdcA"
      }
    },
    {
      "cell_type": "markdown",
      "source": [
        "Write a program which returns absolute value of x"
      ],
      "metadata": {
        "id": "s8UQdMCVxhOM"
      }
    },
    {
      "cell_type": "code",
      "source": [
        "def abs_of_x(x):\n",
        "  # your code here\n",
        "  return x"
      ],
      "metadata": {
        "id": "i4uNcn1-xmLo"
      },
      "execution_count": null,
      "outputs": []
    },
    {
      "cell_type": "markdown",
      "source": [
        "Check"
      ],
      "metadata": {
        "id": "ertsa2mexto2"
      }
    },
    {
      "cell_type": "code",
      "source": [
        "assert abs_of_x(1) == 1\n",
        "assert abs_of_x(-1) == 1\n",
        "assert abs_of_x(0) == 0"
      ],
      "metadata": {
        "id": "ctj4LTjxxuiR"
      },
      "execution_count": null,
      "outputs": []
    },
    {
      "cell_type": "markdown",
      "source": [
        "### 4. Quadrant"
      ],
      "metadata": {
        "id": "b5rGh5RgyYha"
      }
    },
    {
      "cell_type": "markdown",
      "source": [
        "Determine which quadrant in the Cartesian coordinate system the point belongs to.\n",
        "\n",
        "\n",
        "Asign answer **I, II, III or IV** to the **ans** variable"
      ],
      "metadata": {
        "id": "lmfj02saynJH"
      }
    },
    {
      "cell_type": "code",
      "source": [
        "def quadrant(x, y):\n",
        "  # your code here\n",
        "  return ans"
      ],
      "metadata": {
        "id": "3x5t1pujy98q"
      },
      "execution_count": null,
      "outputs": []
    },
    {
      "cell_type": "markdown",
      "source": [
        "Check"
      ],
      "metadata": {
        "id": "OES0w7p2zSxZ"
      }
    },
    {
      "cell_type": "code",
      "source": [
        "assert quadrant(1, 1) == \"I\"\n",
        "assert quadrant(1, -1) == \"IV\"\n",
        "assert quadrant(-1, 1) == \"II\"\n",
        "assert quadrant(-1, -1) == \"III\""
      ],
      "metadata": {
        "id": "5XmYUcHPzTdO"
      },
      "execution_count": null,
      "outputs": []
    }
  ]
}