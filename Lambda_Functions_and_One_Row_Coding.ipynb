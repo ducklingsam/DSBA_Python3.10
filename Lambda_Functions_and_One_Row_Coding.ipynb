{
  "cells": [
    {
      "cell_type": "markdown",
      "source": [
        "# Lambda Functions and One-Row Coding\n",
        "\n",
        "In Python, anonymous function means that a function is without a name. The anonymous functions are called lambda functions. They are used when a simple function is used only once or for a short period in your code. It's most common in functional programming, but it can be used in other paradigms.\n",
        "\n",
        "One-row coding, also known as one-liners, is a popular approach in Python, which is used to write concise and efficient code. It's often used with lambda functions, list comprehensions, and other Python features that allow for compact code.\n",
        "\n",
        "Let's dive into each of these concepts."
      ],
      "metadata": {
        "jupyter": {
          "source_hidden": false,
          "outputs_hidden": false
        },
        "noteable": {
          "cell_type": "markdown"
        },
        "id": "4d3d271b-3c41-49e6-8f3f-555eeacdb88f"
      },
      "id": "4d3d271b-3c41-49e6-8f3f-555eeacdb88f"
    },
    {
      "cell_type": "markdown",
      "source": [
        "## Theory"
      ],
      "metadata": {
        "id": "c1XBboBM0yI1"
      },
      "id": "c1XBboBM0yI1"
    },
    {
      "cell_type": "markdown",
      "source": [
        "### Lambda Functions\n",
        "\n",
        "A lambda function is a small anonymous function. It can take any number of arguments, but can only have one expression. The syntax to create a lambda function is:\n",
        "\n",
        "```python\n",
        "lambda arguments: expression\n",
        "```\n",
        "\n",
        "The expression is executed and the result is returned. Lambda functions can be used wherever function objects are required.\n",
        "\n",
        "Here is an example of a lambda function that doubles the input value:\n",
        "\n",
        "```python\n",
        "x = lambda a: a * 2\n",
        "print(x(5))  # Output: 10\n",
        "```"
      ],
      "metadata": {
        "jupyter": {
          "source_hidden": false,
          "outputs_hidden": false
        },
        "noteable": {
          "cell_type": "markdown"
        },
        "id": "44a24d07-3cdd-49cb-ad0b-a723eaff65e8"
      },
      "id": "44a24d07-3cdd-49cb-ad0b-a723eaff65e8"
    },
    {
      "cell_type": "markdown",
      "source": [
        "### One-Row Coding\n",
        "\n",
        "One-row coding, or one-liners, is a coding style where each action is written in a single line of code. This is often used in Python due to its expressive and compact syntax. One-row coding can make use of various Python features, such as list comprehensions, lambda functions, the map() function, and more.\n",
        "\n",
        "Here is an example of one-row coding, where we create a list of squares for numbers from 0 to 9:\n",
        "\n",
        "```python\n",
        "squares = [x**2 for x in range(10)]\n",
        "```\n",
        "\n",
        "In this example, we use a list comprehension to generate the list of squares. This is a very powerful feature of Python that allows for very compact and readable code."
      ],
      "metadata": {
        "jupyter": {
          "source_hidden": false,
          "outputs_hidden": false
        },
        "noteable": {
          "cell_type": "markdown"
        },
        "id": "f85ebb27-3551-46bc-850b-4254393d6e85"
      },
      "id": "f85ebb27-3551-46bc-850b-4254393d6e85"
    },
    {
      "cell_type": "markdown",
      "source": [
        "## Practice"
      ],
      "metadata": {
        "id": "JwikPAOT000v"
      },
      "id": "JwikPAOT000v"
    },
    {
      "cell_type": "markdown",
      "source": [
        "### 1. Sorting a List of Tuples\n",
        "\n",
        "Given a list of tuples, each containing a string and a number: `lst = [('apple', 3), ('banana', 2), ('cherry', 5), ('date', 1)]`, write a one-liner using a lambda function to sort this list by the second element of each tuple. Answer should be in `sorted_lst`"
      ],
      "metadata": {
        "id": "su2vTzL-1Aah"
      },
      "id": "su2vTzL-1Aah"
    },
    {
      "cell_type": "code",
      "source": [
        "lst = [('apple', 3), ('banana', 2), ('cherry', 5), ('date', 1)]"
      ],
      "metadata": {
        "id": "zag8nteK1AN3"
      },
      "id": "zag8nteK1AN3",
      "execution_count": null,
      "outputs": []
    },
    {
      "cell_type": "markdown",
      "source": [
        "Check"
      ],
      "metadata": {
        "id": "C9TMzFFu1Lrl"
      },
      "id": "C9TMzFFu1Lrl"
    },
    {
      "cell_type": "code",
      "source": [
        "assert sorted_lst == [('date', 1), ('banana', 2), ('apple', 3), ('cherry', 5)]"
      ],
      "metadata": {
        "id": "GT48qBqg1MN7"
      },
      "id": "GT48qBqg1MN7",
      "execution_count": null,
      "outputs": []
    },
    {
      "cell_type": "markdown",
      "source": [
        "### 2. Filtering Even Numbers\n",
        "\n",
        "Given a list of numbers: `lst = [1, 2, 3, 4, 5, 6, 7, 8, 9, 10]`, write a one-liner using a lambda function to filter out the even numbers. Answer should be in `even_numbers`\n",
        "\n",
        "Help: read about `filter()` function"
      ],
      "metadata": {
        "id": "JDtUatEj1PpP"
      },
      "id": "JDtUatEj1PpP"
    },
    {
      "cell_type": "code",
      "source": [
        "lst = [1, 2, 3, 4, 5, 6, 7, 8, 9, 10]"
      ],
      "metadata": {
        "id": "64yccQ_r1pw8"
      },
      "id": "64yccQ_r1pw8",
      "execution_count": null,
      "outputs": []
    },
    {
      "cell_type": "markdown",
      "source": [
        "Check"
      ],
      "metadata": {
        "id": "E86u_Wvp1r57"
      },
      "id": "E86u_Wvp1r57"
    },
    {
      "cell_type": "code",
      "source": [
        "assert even_numbers == [2, 4, 6, 8, 10]"
      ],
      "metadata": {
        "id": "nTX9J-2V1sjE"
      },
      "id": "nTX9J-2V1sjE",
      "execution_count": null,
      "outputs": []
    },
    {
      "cell_type": "markdown",
      "source": [
        "### 3. Conditional Expressions\n",
        "\n",
        "Write a one-liner in order to check whether the given number is odd or even."
      ],
      "metadata": {
        "id": "OXTxIf9S2AcM"
      },
      "id": "OXTxIf9S2AcM"
    },
    {
      "cell_type": "code",
      "source": [],
      "metadata": {
        "id": "VbSvS0L32KJ7"
      },
      "id": "VbSvS0L32KJ7",
      "execution_count": null,
      "outputs": []
    },
    {
      "cell_type": "markdown",
      "source": [
        "Check"
      ],
      "metadata": {
        "id": "XpknsDR02LJO"
      },
      "id": "XpknsDR02LJO"
    },
    {
      "cell_type": "code",
      "source": [
        "assert is_even_or_odd(7) == 'Odd'\n",
        "assert is_even_or_odd(8) == 'Even'"
      ],
      "metadata": {
        "id": "lUVzEPwJ2Lu9"
      },
      "id": "lUVzEPwJ2Lu9",
      "execution_count": null,
      "outputs": []
    }
  ],
  "metadata": {
    "noteable-chatgpt": {
      "create_notebook": {
        "openai_conversation_id": "6838d158-90eb-5ef6-a155-f4433c81a652",
        "openai_ephemeral_user_id": "590151b4-76fd-55c3-931a-7ee8deb133ba",
        "openai_subdivision1_iso_code": "US-GA"
      }
    },
    "noteable": {
      "last_delta_id": "36e41935-ad13-4128-b4df-20278d83d4b1"
    },
    "selected_hardware_size": "small",
    "nteract": {
      "version": "noteable@2.9.0"
    },
    "colab": {
      "provenance": []
    },
    "language_info": {
      "name": "python"
    },
    "kernelspec": {
      "name": "python3",
      "display_name": "Python 3"
    }
  },
  "nbformat": 4,
  "nbformat_minor": 5
}