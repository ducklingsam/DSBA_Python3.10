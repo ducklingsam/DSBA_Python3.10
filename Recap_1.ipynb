{
  "nbformat": 4,
  "nbformat_minor": 0,
  "metadata": {
    "colab": {
      "provenance": []
    },
    "kernelspec": {
      "name": "python3",
      "display_name": "Python 3"
    },
    "language_info": {
      "name": "python"
    }
  },
  "cells": [
    {
      "cell_type": "markdown",
      "source": [
        "# Welcome to Recap 1"
      ],
      "metadata": {
        "id": "zP8fBa66DFXw"
      }
    },
    {
      "cell_type": "markdown",
      "source": [
        "## 1. Uppercase\n",
        "\n",
        "Write a function `uppercase(s)` that takes a string `s` and converts it to uppercase.\n",
        "\n",
        "DO NOT USE BUILT-IN `upper()` method"
      ],
      "metadata": {
        "id": "_Nj9JzGmG8yU"
      }
    },
    {
      "cell_type": "code",
      "source": [
        "# your code here"
      ],
      "metadata": {
        "id": "HRzz-Xw1Hwkf"
      },
      "execution_count": null,
      "outputs": []
    },
    {
      "cell_type": "markdown",
      "source": [
        "Check"
      ],
      "metadata": {
        "id": "qtbmeyJGJSg2"
      }
    },
    {
      "cell_type": "code",
      "source": [
        "assert uppercase(\"hello\") == \"HELLO\"\n",
        "assert uppercase(\"Python\") == \"PYTHON\""
      ],
      "metadata": {
        "id": "7e4t1X4eJTZv"
      },
      "execution_count": null,
      "outputs": []
    },
    {
      "cell_type": "markdown",
      "source": [
        "## 2. Multiplication\n",
        "\n",
        "Write a function `multiply(a, b)` that takes two numbers and returns their product.\n",
        "\n",
        "DO NOT USE STRAIGHT FORWARD MULTIPLICATION"
      ],
      "metadata": {
        "id": "HwkQPBV8Jj2V"
      }
    },
    {
      "cell_type": "code",
      "source": [
        "# your code here"
      ],
      "metadata": {
        "id": "IQp_fnSmJ3D3"
      },
      "execution_count": null,
      "outputs": []
    },
    {
      "cell_type": "markdown",
      "source": [
        "Check"
      ],
      "metadata": {
        "id": "9DWJbIQNJ4dV"
      }
    },
    {
      "cell_type": "code",
      "source": [
        "assert multiply(2, 3) == 6\n",
        "assert multiply(5, 5) == 25"
      ],
      "metadata": {
        "id": "cbbLojJYJ4-A"
      },
      "execution_count": null,
      "outputs": []
    },
    {
      "cell_type": "markdown",
      "source": [
        "## 3. Substring\n",
        "\n",
        "Write a function `find_substring(s, sub)` that checks if a substring `sub` is present in `s`. The function should return `True` if the substring is found, `False` otherwise."
      ],
      "metadata": {
        "id": "aigIQuSDJ8NU"
      }
    },
    {
      "cell_type": "code",
      "source": [
        "# your code here"
      ],
      "metadata": {
        "id": "9mPrtRafKGdY"
      },
      "execution_count": null,
      "outputs": []
    },
    {
      "cell_type": "markdown",
      "source": [
        "Check"
      ],
      "metadata": {
        "id": "PsYksT2KKHZl"
      }
    },
    {
      "cell_type": "code",
      "source": [
        "assert find_substring(\"hello\", \"ell\") == True\n",
        "assert find_substring(\"Python\", \"py\") == False\n"
      ],
      "metadata": {
        "id": "3yl6A6CoKILT"
      },
      "execution_count": null,
      "outputs": []
    },
    {
      "cell_type": "markdown",
      "source": [
        "## 4. Compartion\n",
        "\n",
        "Write a function `compare(a, b)` that takes two numbers and returns the greater one. If the numbers are equal, return the string `\"Equal\"`."
      ],
      "metadata": {
        "id": "pE9uVgZvKMIM"
      }
    },
    {
      "cell_type": "code",
      "source": [
        "# your code here"
      ],
      "metadata": {
        "id": "FbCdfKX-LdYf"
      },
      "execution_count": null,
      "outputs": []
    },
    {
      "cell_type": "markdown",
      "source": [
        "Check"
      ],
      "metadata": {
        "id": "lk3pL1NiLfjJ"
      }
    },
    {
      "cell_type": "code",
      "source": [
        "assert compare(2, 3) == 3\n",
        "assert compare(5, 5) == \"Equal\""
      ],
      "metadata": {
        "id": "hZzCIR4cLgY7"
      },
      "execution_count": null,
      "outputs": []
    },
    {
      "cell_type": "markdown",
      "source": [
        "## 5. First element\n",
        "\n",
        "Write a function `first_element(lst`) that takes a list and returns its first element."
      ],
      "metadata": {
        "id": "bnkAEUg2Ll9C"
      }
    },
    {
      "cell_type": "code",
      "source": [
        "# your code here"
      ],
      "metadata": {
        "id": "YfuSgpK1LwrP"
      },
      "execution_count": null,
      "outputs": []
    },
    {
      "cell_type": "markdown",
      "source": [
        "Check"
      ],
      "metadata": {
        "id": "v2E2EADvLxob"
      }
    },
    {
      "cell_type": "code",
      "source": [
        "assert first_element([1, 2, 3]) == 1\n",
        "assert first_element(['a', 'b', 'c']) == 'a'\n"
      ],
      "metadata": {
        "id": "QCkNzOnBLyQq"
      },
      "execution_count": null,
      "outputs": []
    },
    {
      "cell_type": "markdown",
      "source": [
        "## 6. Unique Elements\n",
        "\n",
        "Write a function `unique_elements(lst)` that accepts a list `lst` and returns a new list that includes the unique elements from the original list."
      ],
      "metadata": {
        "id": "TTNKT_N4M12f"
      }
    },
    {
      "cell_type": "code",
      "source": [
        "# your code here"
      ],
      "metadata": {
        "id": "2fszb0POM8vW"
      },
      "execution_count": null,
      "outputs": []
    },
    {
      "cell_type": "markdown",
      "source": [
        "Check"
      ],
      "metadata": {
        "id": "J2t9ldbcM_Mh"
      }
    },
    {
      "cell_type": "code",
      "source": [
        "assert unique_elements([1, 2, 3, 2, 2, 4, 5, 2]) == [1, 2, 3, 4, 5]\n",
        "assert unique_elements(['a', 'b', 'a', 'a', 'c', 'a', 'd']) == ['a', 'b', 'c', 'd']\n",
        "assert unique_elements(['Python', 'is', 'cool', 'and', 'Python', 'is', 'fun']) == ['Python', 'is', 'cool', 'and', 'fun']"
      ],
      "metadata": {
        "id": "nj0s8cwSNAAG"
      },
      "execution_count": null,
      "outputs": []
    },
    {
      "cell_type": "markdown",
      "source": [
        "## 7. Dictionaries \n",
        "\n",
        "IDK how to name this Task:)\n",
        "\n",
        "Write a function `get_value(d, key)` that accepts a dictionary `d` and a `key`, and returns the value associated with the `key` in the dictionary."
      ],
      "metadata": {
        "id": "hmuapfSqNTv0"
      }
    },
    {
      "cell_type": "code",
      "source": [
        "# your code here"
      ],
      "metadata": {
        "id": "86EyLidMNo0T"
      },
      "execution_count": null,
      "outputs": []
    },
    {
      "cell_type": "markdown",
      "source": [
        "Check"
      ],
      "metadata": {
        "id": "APwh79OjNr3K"
      }
    },
    {
      "cell_type": "code",
      "source": [
        "assert get_value({'a': 1, 'b': 2}, 'a') == 1\n",
        "assert get_value({'Python': 'cool', 'Java': 'not cool'}, 'Java') == 'not cool'"
      ],
      "metadata": {
        "id": "Cz45A4d-Nsej"
      },
      "execution_count": null,
      "outputs": []
    },
    {
      "cell_type": "markdown",
      "source": [
        "## 8. Sum\n",
        "\n",
        "Write a function `calculate_sum(lst)` that calculates the sum of all numbers in a list.\n",
        "\n",
        "DO NOT USE BUILT_IN `sum()`"
      ],
      "metadata": {
        "id": "EFfuq2a8Nz9X"
      }
    },
    {
      "cell_type": "code",
      "source": [
        "# your code here"
      ],
      "metadata": {
        "id": "_0RI3psbN-FH"
      },
      "execution_count": null,
      "outputs": []
    },
    {
      "cell_type": "markdown",
      "source": [
        "Check"
      ],
      "metadata": {
        "id": "jofoSDoaN_4S"
      }
    },
    {
      "cell_type": "code",
      "source": [
        "assert calculate_sum([1, 2, 3, 4, 5]) == 15\n",
        "assert calculate_sum([10, 20, 30]) == 60"
      ],
      "metadata": {
        "id": "JYgwwvSMOAx4"
      },
      "execution_count": null,
      "outputs": []
    },
    {
      "cell_type": "markdown",
      "source": [
        "## 9. Palindrome Checker\n",
        "\n",
        "Write a function `is_palindrome(s)` that checks if a string `s` is a palindrome. \n",
        "\n",
        "A palindrome is a word, phrase, number, or other sequences of characters that reads the same forward and backward, ignoring spaces, punctuation, and capitalization."
      ],
      "metadata": {
        "id": "MW2-DTB8OIkp"
      }
    },
    {
      "cell_type": "code",
      "source": [
        "# your code here"
      ],
      "metadata": {
        "id": "_sLpJjboOT6h"
      },
      "execution_count": null,
      "outputs": []
    },
    {
      "cell_type": "markdown",
      "source": [
        "Check"
      ],
      "metadata": {
        "id": "IqDGwq8COVs9"
      }
    },
    {
      "cell_type": "code",
      "source": [
        "assert is_palindrome(\"radar\") == True\n",
        "assert is_palindrome(\"Python\") == False\n",
        "assert is_palindrome(\"A man a plan a canal Panama\") == True\n"
      ],
      "metadata": {
        "id": "vMYeHO25OWhA"
      },
      "execution_count": null,
      "outputs": []
    },
    {
      "cell_type": "markdown",
      "source": [
        "## 10. If even\n",
        "\n",
        "Write a function `is_even(n)` that checks if a number is even. The function should return `True` if the number is even, `False` otherwise."
      ],
      "metadata": {
        "id": "jTLYzD3gOdbq"
      }
    },
    {
      "cell_type": "code",
      "source": [
        "# ur cod her"
      ],
      "metadata": {
        "id": "GbX2u5DAOrCs"
      },
      "execution_count": null,
      "outputs": []
    },
    {
      "cell_type": "markdown",
      "source": [
        "Check"
      ],
      "metadata": {
        "id": "9pYDhj6wOvK8"
      }
    },
    {
      "cell_type": "code",
      "source": [
        "assert is_even(2) == True\n",
        "assert is_even(5) == False"
      ],
      "metadata": {
        "id": "HjkSZVcBOwSW"
      },
      "execution_count": null,
      "outputs": []
    },
    {
      "cell_type": "markdown",
      "source": [
        "## 11. Count even\n",
        "\n",
        "Write a function `count_even_numbers(lst)` that counts the number of even numbers in a list."
      ],
      "metadata": {
        "id": "UZJMWJXxOzQN"
      }
    },
    {
      "cell_type": "code",
      "source": [
        "# ur co he"
      ],
      "metadata": {
        "id": "uhN9MQNvO6qV"
      },
      "execution_count": null,
      "outputs": []
    },
    {
      "cell_type": "markdown",
      "source": [
        "Check"
      ],
      "metadata": {
        "id": "Rq5nIoSfO8d8"
      }
    },
    {
      "cell_type": "code",
      "source": [
        "assert count_even_numbers([1, 2, 3, 4, 5]) == 2\n",
        "assert count_even_numbers([10, 11, 12, 13, 14]) == 3"
      ],
      "metadata": {
        "id": "deml05oUO885"
      },
      "execution_count": null,
      "outputs": []
    },
    {
      "cell_type": "markdown",
      "source": [
        "## 12. Count Occurrences\n",
        "\n",
        "Write a function `count_occurrences(lst, element)` that accepts a list `lst` and an `element`, and returns the number of times `element` appears in `lst`."
      ],
      "metadata": {
        "id": "YTaXthy2PAeX"
      }
    },
    {
      "cell_type": "code",
      "source": [
        "# ych"
      ],
      "metadata": {
        "id": "tA-I2sICPK5P"
      },
      "execution_count": null,
      "outputs": []
    },
    {
      "cell_type": "markdown",
      "source": [
        "Check"
      ],
      "metadata": {
        "id": "T7M_-B-6PNIg"
      }
    },
    {
      "cell_type": "code",
      "source": [
        "assert count_occurrences([1, 2, 3, 2, 2, 4, 5, 2], 2) == 4\n",
        "assert count_occurrences(['a', 'b', 'a', 'a', 'c', 'a', 'd'], 'a') == 4\n",
        "assert count_occurrences(['Python', 'is', 'cool', 'and', 'Python', 'is', 'fun'], 'Python') == 2"
      ],
      "metadata": {
        "id": "IU6NpzpTPNt1"
      },
      "execution_count": null,
      "outputs": []
    },
    {
      "cell_type": "markdown",
      "source": [
        "## 13. Max\n",
        "\n",
        "Write a function `maximum(lst)` that finds the maximum number in a list.\n",
        "\n",
        "DO NOT USE BUILT-IN `max()` "
      ],
      "metadata": {
        "id": "VpTPMw5EPRxQ"
      }
    },
    {
      "cell_type": "code",
      "source": [],
      "metadata": {
        "id": "MTPo-656Plw-"
      },
      "execution_count": null,
      "outputs": []
    },
    {
      "cell_type": "markdown",
      "source": [
        "Check"
      ],
      "metadata": {
        "id": "OUIWDvKQPnCR"
      }
    },
    {
      "cell_type": "code",
      "source": [
        "assert maximum([1, 2, 3, 4, 5]) == 5\n",
        "assert maximum([10, 11, 12, 13, 14]) == 14"
      ],
      "metadata": {
        "id": "XJs5KpBVPiRI"
      },
      "execution_count": null,
      "outputs": []
    },
    {
      "cell_type": "markdown",
      "source": [
        "## 13. Value sum\n",
        "\n",
        "Write a function `values_sum(d)` that calculates the sum of all values in a dictionary."
      ],
      "metadata": {
        "id": "XlnA5PXmPoiP"
      }
    },
    {
      "cell_type": "code",
      "source": [],
      "metadata": {
        "id": "uPJ4rvnDPvmS"
      },
      "execution_count": null,
      "outputs": []
    },
    {
      "cell_type": "markdown",
      "source": [
        "Check"
      ],
      "metadata": {
        "id": "GxPaNSAVPv1f"
      }
    },
    {
      "cell_type": "code",
      "source": [
        "assert values_sum({'a': 1, 'b': 2, 'c': 3}) == 6\n",
        "assert values_sum({'one': 1, 'two': 2, 'three': 3}) == 6"
      ],
      "metadata": {
        "id": "a0uZNZQIPwY7"
      },
      "execution_count": null,
      "outputs": []
    },
    {
      "cell_type": "markdown",
      "source": [
        "## 14. Count 'em!\n",
        "\n",
        "Write a function `count_chars(s)` that accepts a string `s` and returns a dictionary where keys are characters and values are the number of times each character appears in `s`."
      ],
      "metadata": {
        "id": "8Mb8pyDKPy-9"
      }
    },
    {
      "cell_type": "code",
      "source": [],
      "metadata": {
        "id": "KfCCMQiQP_4w"
      },
      "execution_count": null,
      "outputs": []
    },
    {
      "cell_type": "markdown",
      "source": [
        "Check"
      ],
      "metadata": {
        "id": "oYJ76OPVQAVw"
      }
    },
    {
      "cell_type": "code",
      "source": [
        "assert count_chars(\"hello\") == {'h': 1, 'e': 1, 'l': 2, 'o': 1}\n",
        "assert count_chars(\"Python\") == {'P': 1, 'y': 1, 't': 1, 'h': 1, 'o': 1, 'n': 1}"
      ],
      "metadata": {
        "id": "JFLG8mYqQA4h"
      },
      "execution_count": null,
      "outputs": []
    },
    {
      "cell_type": "markdown",
      "source": [
        "## 15. Filter\n",
        "\n",
        "Write a function `filter_even_numbers(lst)` that accepts a list of numbers and returns a new list that includes only the even numbers from the input list."
      ],
      "metadata": {
        "id": "A-q8CQ3_QKrM"
      }
    },
    {
      "cell_type": "code",
      "source": [],
      "metadata": {
        "id": "l4u0zNNsQOEP"
      },
      "execution_count": null,
      "outputs": []
    },
    {
      "cell_type": "markdown",
      "source": [
        "Check"
      ],
      "metadata": {
        "id": "y_jOWvN1QORH"
      }
    },
    {
      "cell_type": "code",
      "source": [
        "assert filter_even_numbers([1, 2, 3, 4, 5]) == [2, 4]\n",
        "assert filter_even_numbers([10, 11, 12, 13, 14]) == [10, 12, 14]\n"
      ],
      "metadata": {
        "id": "9uixB66TQOxc"
      },
      "execution_count": null,
      "outputs": []
    },
    {
      "cell_type": "markdown",
      "source": [
        "## 16. Super vowels\n",
        "\n",
        "Implement `super_vowels` function which takes a string as an argument and returns a modified version of that string. In the return value of `super_vowels`, all vowels should be in upper case whereas all consonants should be in lower case. The vowels are listed in the `VOWELS` variable."
      ],
      "metadata": {
        "id": "sJniEqmOvZy9"
      }
    },
    {
      "cell_type": "code",
      "source": [
        "VOWELS = [\"a\", \"e\", \"i\", \"o\", \"u\"]\n",
        "# your code"
      ],
      "metadata": {
        "id": "ijKWoqU4viQv"
      },
      "execution_count": null,
      "outputs": []
    },
    {
      "cell_type": "markdown",
      "source": [
        "Check"
      ],
      "metadata": {
        "id": "oL4zc5PMvmg7"
      }
    },
    {
      "cell_type": "code",
      "source": [
        "assert super_vowels(\"hi wassup!\") == \"hI wAssUp!\"\n",
        "assert super_vowels(\"HOw aRE You?\") == \"hOw ArE yOU?\""
      ],
      "metadata": {
        "id": "XZrVADGIvnTx"
      },
      "execution_count": null,
      "outputs": []
    }
  ]
}