{
  "cells": [
    {
      "cell_type": "markdown",
      "source": [
        "# Lesson 8. Classes and Exceptions\n",
        "\n",
        "In Python, everything is an object. Classes provide a means of bundling data and functionality together. Creating a new class creates a new type of object, allowing new instances of that type to be made. Each class instance can have attributes attached to it for maintaining its state. Class instances can also have methods (defined by its class) for modifying its state.\n",
        "\n",
        "Python provides full support for exception handling. An exception is an event, which occurs during the execution of a program that disrupts the normal flow of the program's instructions. In Python, exceptions are triggered automatically on errors, and they can be triggered and intercepted by your code.\n",
        "\n",
        "Let's dive into each of these concepts."
      ],
      "metadata": {
        "jupyter": {
          "outputs_hidden": false,
          "source_hidden": false
        },
        "noteable": {
          "cell_type": "markdown"
        },
        "id": "74544557-1551-4168-a217-365fe59067ce"
      },
      "id": "74544557-1551-4168-a217-365fe59067ce"
    },
    {
      "cell_type": "markdown",
      "source": [
        "## Classes in Python\n",
        "\n",
        "A class is a code template for creating objects. Objects have member variables and have behaviour associated with them. In python, a class is created by the keyword class.\n",
        "\n",
        "An object is created using the constructor of the class. This object will then be called the instance of the class.\n",
        "\n",
        "```python\n",
        "class MyClass:\n",
        "    x = 5\n",
        "\n",
        "p1 = MyClass()\n",
        "print(p1.x)  # Output: 5\n",
        "```\n",
        "\n",
        "In the example above, we create a class named MyClass, then create an object p1, and print the value of x."
      ],
      "metadata": {
        "jupyter": {
          "source_hidden": false,
          "outputs_hidden": false
        },
        "noteable": {
          "cell_type": "markdown"
        },
        "id": "09277ce1-f522-4482-b9be-a590c32d7702"
      },
      "id": "09277ce1-f522-4482-b9be-a590c32d7702"
    },
    {
      "cell_type": "markdown",
      "source": [
        "The `__init__` method is a special function that gets automatically called when a new object is created from a class. It's used to set up the object with initial values and states.\n",
        "\n",
        "The self parameter in the `__init__` method and other methods within the class refers to the instance of the class. It's used to access and manipulate the object's attributes.\n",
        "\n",
        "Here's a simple example\n",
        "\n",
        "```python\n",
        "class MyClass:\n",
        "    def __init__(self):\n",
        "        self.variable = \"Hello World\"\n",
        "\n",
        "    def print_variable(self):\n",
        "        print(self.variable)\n",
        "```\n",
        "\n",
        "\n",
        "```python\n",
        "my_object = MyClass()\n",
        "my_object.print_variable()  # prints \"Hello World\"\n",
        "```\n",
        "\n",
        "In this code, MyClass has an `__init__` method that sets `variable` to `\"Hello World\"` when a new object is created. The `print_variable` method prints the value of `variable`."
      ],
      "metadata": {
        "id": "C5PqXxJc4YSA"
      },
      "id": "C5PqXxJc4YSA"
    },
    {
      "cell_type": "markdown",
      "source": [
        "## Exceptions in Python\n",
        "\n",
        "Python has many built-in exceptions that are raised when your program encounters an error (something in the program goes wrong).\n",
        "\n",
        "When these exceptions occur, the Python interpreter stops the current process and passes it to the calling process until it is handled. If not handled, the program will crash.\n",
        "\n",
        "For example, let us consider a program where we have a function A that calls function B, which in turn calls function C. If an exception occurs in function C but is not handled in C, the exception passes to B and then to A.\n",
        "\n",
        "If never handled, an error message is displayed and our program comes to a sudden unexpected halt.\n",
        "\n",
        "```python\n",
        "try:\n",
        "   # do something\n",
        "   pass\n",
        "\n",
        "except ValueError:\n",
        "   # handle ValueError exception\n",
        "   pass\n",
        "\n",
        "except (TypeError, ZeroDivisionError):\n",
        "   # handle multiple exceptions\n",
        "   # TypeError and ZeroDivisionError\n",
        "   pass\n",
        "\n",
        "except:\n",
        "   # handle all other exceptions\n",
        "   pass\n",
        "```"
      ],
      "metadata": {
        "jupyter": {
          "source_hidden": false,
          "outputs_hidden": false
        },
        "noteable": {
          "cell_type": "markdown"
        },
        "id": "faecc4c3-e3ec-402f-a1bd-84d55e44e425"
      },
      "id": "faecc4c3-e3ec-402f-a1bd-84d55e44e425"
    },
    {
      "cell_type": "markdown",
      "source": [
        "## Problem 1\n",
        "\n",
        "Create a class named `MyClass` with a property named `x` set to `10`. Then create an object of `MyClass` named `p1` and print the value of `x`."
      ],
      "metadata": {
        "jupyter": {
          "source_hidden": false,
          "outputs_hidden": false
        },
        "noteable": {
          "cell_type": "markdown"
        },
        "id": "d585acf8-35f1-4e4b-98d6-6f84ac2d04b2"
      },
      "id": "d585acf8-35f1-4e4b-98d6-6f84ac2d04b2"
    },
    {
      "cell_type": "code",
      "source": [],
      "outputs": [],
      "execution_count": null,
      "metadata": {
        "jupyter": {
          "source_hidden": false,
          "outputs_hidden": false
        },
        "noteable": {
          "cell_type": "code"
        },
        "ExecuteTime": {
          "start_time": "2023-06-05T14:00:59.317161+00:00",
          "end_time": "2023-06-05T14:00:59.474817+00:00"
        },
        "id": "ad9b084f-1db2-42c8-b941-d56949498a6c"
      },
      "id": "ad9b084f-1db2-42c8-b941-d56949498a6c"
    },
    {
      "cell_type": "markdown",
      "source": [
        "## Problem 2\n",
        "\n",
        "Create a class named `Person` with two properties: `name` and `age`. Then create an object of `Person` named `p1` and set `name` to `John` and `age` to `36`. Print the `name` and `age` of `p1`."
      ],
      "metadata": {
        "jupyter": {
          "source_hidden": false,
          "outputs_hidden": false
        },
        "noteable": {
          "cell_type": "markdown"
        },
        "id": "fa813061-516f-411c-8a91-98c6a4b330a9"
      },
      "id": "fa813061-516f-411c-8a91-98c6a4b330a9"
    },
    {
      "cell_type": "code",
      "source": [],
      "outputs": [],
      "execution_count": null,
      "metadata": {
        "jupyter": {
          "source_hidden": false,
          "outputs_hidden": false
        },
        "noteable": {
          "cell_type": "code"
        },
        "ExecuteTime": {
          "start_time": "2023-06-05T14:01:39.059701+00:00",
          "end_time": "2023-06-05T14:01:39.218772+00:00"
        },
        "id": "62607939-6b87-41b3-92cf-a10a26af9330"
      },
      "id": "62607939-6b87-41b3-92cf-a10a26af9330"
    },
    {
      "cell_type": "markdown",
      "source": [
        "## Problem 3\n",
        "\n",
        "Create a function named `safe_divide` that takes two parameters `x` and `y` and returns the result of `x` divided by `y`. If `y` is zero, the function should print a message `'Cannot divide by zero'` and return `None`."
      ],
      "metadata": {
        "jupyter": {
          "source_hidden": false,
          "outputs_hidden": false
        },
        "noteable": {
          "cell_type": "markdown"
        },
        "id": "571fa1c2-11e0-4fce-9150-cb21b0eb5d55"
      },
      "id": "571fa1c2-11e0-4fce-9150-cb21b0eb5d55"
    },
    {
      "cell_type": "code",
      "source": [],
      "outputs": [],
      "execution_count": null,
      "metadata": {
        "jupyter": {
          "source_hidden": false,
          "outputs_hidden": false
        },
        "noteable": {
          "cell_type": "code"
        },
        "ExecuteTime": {
          "start_time": "2023-06-05T14:02:59.317031+00:00",
          "end_time": "2023-06-05T14:02:59.474208+00:00"
        },
        "id": "6f160029-e3f1-4d83-ad69-5b97f153bdb9"
      },
      "id": "6f160029-e3f1-4d83-ad69-5b97f153bdb9"
    },
    {
      "cell_type": "markdown",
      "source": [
        "## Problem 4\n",
        "\n",
        "Create a class named `Rectangle` with two properties: `length` and `width`. The class should also have a method named `area` that returns the area of the rectangle (length * width). Then create an object of `Rectangle` named `r1` with length 5 and width 6, and print the area of `r1`."
      ],
      "metadata": {
        "jupyter": {
          "source_hidden": false,
          "outputs_hidden": false
        },
        "noteable": {
          "cell_type": "markdown"
        },
        "id": "3557af5e-c889-48e0-a181-808680fc053f"
      },
      "id": "3557af5e-c889-48e0-a181-808680fc053f"
    },
    {
      "cell_type": "code",
      "source": [],
      "metadata": {
        "id": "khGFycVR5CBu"
      },
      "id": "khGFycVR5CBu",
      "execution_count": null,
      "outputs": []
    }
  ],
  "metadata": {
    "noteable-chatgpt": {
      "create_notebook": {
        "openai_conversation_id": "6838d158-90eb-5ef6-a155-f4433c81a652",
        "openai_ephemeral_user_id": "590151b4-76fd-55c3-931a-7ee8deb133ba",
        "openai_subdivision1_iso_code": "US-GA"
      }
    },
    "noteable": {
      "last_delta_id": "02d653fc-8ea5-4440-93fa-17f23756495f"
    },
    "selected_hardware_size": "small",
    "nteract": {
      "version": "noteable@2.9.0"
    },
    "colab": {
      "provenance": []
    }
  },
  "nbformat": 4,
  "nbformat_minor": 5
}