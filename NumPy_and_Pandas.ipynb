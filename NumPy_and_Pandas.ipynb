{
  "cells": [
    {
      "cell_type": "markdown",
      "source": [
        "# Lesson 9. NumPy and Pandas \n",
        "\n",
        "NumPy (Numerical Python) is a Python library used for scientific computing. It can also be used as an efficient multi-dimensional container of generic data. Arbitrary data-types can be defined using NumPy which allows NumPy to seamlessly and speedily integrate with a wide variety of databases.\n",
        "\n",
        "Pandas is a software library written for the Python programming language for data manipulation and analysis. In particular, it offers data structures and operations for manipulating numerical tables and time series.\n",
        "\n",
        "Let's dive into each of these concepts."
      ],
      "metadata": {
        "jupyter": {
          "outputs_hidden": false,
          "source_hidden": false
        },
        "noteable": {
          "cell_type": "markdown"
        },
        "id": "eeda348d-62bf-4140-9bc8-efd062c4d560"
      },
      "id": "eeda348d-62bf-4140-9bc8-efd062c4d560"
    },
    {
      "cell_type": "markdown",
      "source": [
        "## Theory"
      ],
      "metadata": {
        "id": "8q_sRwqwCeze"
      },
      "id": "8q_sRwqwCeze"
    },
    {
      "cell_type": "markdown",
      "source": [
        "### NumPy in Python\n",
        "\n",
        "NumPy is a Python package. It stands for 'Numerical Python'. It is a library for the Python programming language, adding support for large, multi-dimensional arrays and matrices, along with a large collection of high-level mathematical functions to operate on these arrays.\n",
        "\n",
        "We can install numpy using pip:\n",
        "\n",
        "```python\n",
        "!pip install numpy\n",
        "```\n",
        "\n",
        "Once NumPy is installed, you can import and use it. Here is a simple example:\n",
        "\n",
        "```python\n",
        "import numpy as np\n",
        "\n",
        "arr = np.array([1, 2, 3, 4, 5])\n",
        "\n",
        "print(arr)  # Output: [1 2 3 4 5]\n",
        "print(type(arr))  # Output: <class 'numpy.ndarray'>\n",
        "```"
      ],
      "metadata": {
        "jupyter": {
          "source_hidden": false,
          "outputs_hidden": false
        },
        "noteable": {
          "cell_type": "markdown"
        },
        "id": "238081cd-c9db-4af0-80ec-14c91c348d17"
      },
      "id": "238081cd-c9db-4af0-80ec-14c91c348d17"
    },
    {
      "cell_type": "markdown",
      "source": [
        "Key features of NumPy:\n",
        "\n",
        "1.   ndarray: An efficient multi-dimensional array providing fast array-oriented arithmetic operations and flexible broadcasting capabilities.\n",
        "2.   Mathematical functions for fast operations on entire arrays of data without having to write loops.\n",
        "3.  Tools for reading/writing array data to disk and working with memory-mapped files.\n",
        "4. Linear algebra, random number generation, and Fourier transform capabilities.\n",
        "\n"
      ],
      "metadata": {
        "id": "lHUtnGlM-Rhl"
      },
      "id": "lHUtnGlM-Rhl"
    },
    {
      "cell_type": "markdown",
      "source": [
        "**Creating Arrays**: You can create arrays using the numpy.array() function.\n",
        "\n",
        "```python\n",
        "import numpy as np\n",
        "arr = np.array([1, 2, 3, 4, 5])\n",
        "print(arr) # Output: array([1, 2, 3, 4, 5])\n",
        "```\n",
        "\n",
        "**Arithmetic Operations**: You can perform element-wise addition, subtraction, multiplication, and division on arrays.\n",
        "\n",
        "```python\n",
        "arr1 = np.array([1, 2, 3])\n",
        "arr2 = np.array([4, 5, 6])\n",
        "print(arr1 + arr2)  # Output: array([5, 7, 9])\n",
        "```\n",
        "\n",
        "**Reshaping Arrays**: The reshape() function allows you to change the number of rows and columns in an array.\n",
        "\n",
        "```python\n",
        "arr = np.array([1, 2, 3, 4, 5, 6])\n",
        "new_arr = arr.reshape(2, 3)\n",
        "print(new_arr)\n",
        "'''\n",
        "Output:\n",
        "[[1 2 3]\n",
        " [4 5 6]]\n",
        "'''\n",
        "```\n",
        "\n",
        "**Indexing and Slicing**: You can access array elements through indices.\n",
        "\n",
        "\n",
        "```python\n",
        "arr = np.array([1, 2, 3, 4, 5])\n",
        "print(arr[0])  # Output: 1\n",
        "print(arr[1:3])  # Output: array([2, 3])\n",
        "```\n",
        "\n",
        "**Statistical Functions**: NumPy provides functions like `mean()`, `median()`, `std()`, etc.\n",
        "\n",
        "\n",
        "```python\n",
        "arr = np.array([1, 2, 3, 4, 5])\n",
        "print(np.mean(arr))  # Output: 3.0\n",
        "```\n",
        "\n",
        "\n"
      ],
      "metadata": {
        "id": "GMDFSiZY-m1g"
      },
      "id": "GMDFSiZY-m1g"
    },
    {
      "cell_type": "code",
      "source": [
        "import numpy as np\n",
        "arr = np.array([1, 2, 3, 4, 5, 6])\n",
        "new_arr = arr.reshape(2, 3)\n",
        "print(new_arr)"
      ],
      "metadata": {
        "colab": {
          "base_uri": "https://localhost:8080/"
        },
        "id": "KQa6gtHJ_uS2",
        "outputId": "e9e11732-1cba-4b13-a0ae-cf88f65a6357"
      },
      "id": "KQa6gtHJ_uS2",
      "execution_count": null,
      "outputs": [
        {
          "output_type": "stream",
          "name": "stdout",
          "text": [
            "[[1 2 3]\n",
            " [4 5 6]]\n"
          ]
        }
      ]
    },
    {
      "cell_type": "markdown",
      "source": [
        "You might think why we should use NumPy Array instead of built-in List? So, here is the comparison table "
      ],
      "metadata": {
        "id": "GU6EkHWxAXKT"
      },
      "id": "GU6EkHWxAXKT"
    },
    {
      "cell_type": "markdown",
      "source": [
        "| **Feature**          | **Python List**                                             | **NumPy Array**                                                                                  |\n",
        "|----------------------|-------------------------------------------------------------|--------------------------------------------------------------------------------------------------|\n",
        "| **Memory Usage**     |                     Higher memory usage.                    |                            Lower memory usage due to type uniformity.                            |\n",
        "| **Performance**      |     Slower due to dynamic type checking during runtime.     |                   Faster due to static typing and contiguous memory allocation.                  |\n",
        "| **Functionality**    | Basic operations like appending, inserting, removing items. |     Advanced operations like vector addition, matrix multiplication, broadcasting, and more.     |\n",
        "| **Storage**          |             Can store heterogeneous data types.             |  Stores homogeneous data types, which is efficient for mathematical and scientific computations. |\n",
        "| **Size Flexibility** |        Size is dynamic, can grow or shrink as needed.       |                           Size is static, cannot change after creation.                          |\n",
        "| **Operations**       |       Arithmetic operations require explicit looping.       | Supports element-wise operations and operations between differently sized arrays (broadcasting). |\n",
        "| **Integration**      |      Not directly compatible with scientific libraries.     |       Directly compatible with many scientific libraries (SciPy, Matplotlib, Pandas, etc.).      |"
      ],
      "metadata": {
        "id": "qnmaCUMkACnQ"
      },
      "id": "qnmaCUMkACnQ"
    },
    {
      "cell_type": "markdown",
      "source": [
        "Check out the [NumPy official documentation](https://numpy.org/doc/stable/index.html) or google other sites to know more fucntions and methods, because there are plenty of them, so the notebook will be endless"
      ],
      "metadata": {
        "id": "5DG71vk2E9ll"
      },
      "id": "5DG71vk2E9ll"
    },
    {
      "cell_type": "markdown",
      "source": [
        "### Pandas in Python\n",
        "\n",
        "Pandas is a software library written for the Python programming language for data manipulation and analysis. In particular, it offers data structures and operations for manipulating numerical tables and time series.\n",
        "\n",
        "We can install pandas using pip:\n",
        "\n",
        "```python\n",
        "!pip install pandas\n",
        "```\n",
        "\n",
        "Once Pandas is installed, you can import and use it. Here is a simple example:\n",
        "\n",
        "```python\n",
        "import pandas as pd\n",
        "\n",
        "data = {\n",
        "    'apples': [3, 2, 0, 1],\n",
        "    'oranges': [0, 3, 7, 2]\n",
        "}\n",
        "\n",
        "purchases = pd.DataFrame(data)\n",
        "\n",
        "print(purchases)\n",
        "```\n",
        "\n",
        "This will output:\n",
        "\n",
        "```\n",
        "   apples  oranges\n",
        "0       3        0\n",
        "1       2        3\n",
        "2       0        7\n",
        "3       1        2\n",
        "```"
      ],
      "metadata": {
        "jupyter": {
          "source_hidden": false,
          "outputs_hidden": false
        },
        "noteable": {
          "cell_type": "markdown"
        },
        "id": "8a601826-c532-49ea-a139-0216893a0129"
      },
      "id": "8a601826-c532-49ea-a139-0216893a0129"
    },
    {
      "cell_type": "markdown",
      "source": [
        "**Creating a DataFrame**: You can create a DataFrame using the `pandas.DataFrame()` function.\n",
        "\n",
        "\n",
        "\n",
        "```python\n",
        "import pandas as pd\n",
        "data = {'Name': ['John', 'Anna', 'Peter'], 'Age': [25, 34, 57]}\n",
        "df = pd.DataFrame(data)\n",
        "print(df)\n",
        "```\n",
        "\n",
        "\n",
        "**Reading Data**: You can read data from a CSV file using `pandas.read_csv()`.\n",
        "\n",
        "\n",
        "```python\n",
        "df = pd.read_csv('file.csv')\n",
        "```\n",
        "\n",
        "**Data Selection**: You can select data using column names, or using conditions.\n",
        "\n",
        "\n",
        "```python\n",
        "ages = df['Age']  # select the 'Age' column\n",
        "old_people = df[df['Age'] > 18]  # select people older than 30\n",
        "```\n",
        "\n",
        "**Data Manipulation**: You can manipulate data using functions like `groupby()`, `merge()`, etc.\n",
        "\n",
        "\n",
        "```python\n",
        "average_age = df['Age'].mean()  # calculate the average age\n",
        "grouped = df.groupby('Age').count()  # group by age and count\n",
        "```\n",
        "\n",
        "**Handling Missing Data**: Pandas provides functions like **isnull()**, **notnull()**, **dropna()**, **fillna()**, etc.\n",
        "\n",
        "\n",
        "```python\n",
        "df.isnull()  # checks for null Values, Returns Boolean DataFrame\n",
        "df.dropna()  # drops all rows that contain null values\n",
        "df.fillna(x)  # replaces all null values with x\n",
        "```\n",
        "\n",
        "\n"
      ],
      "metadata": {
        "id": "oIW6DxjAAvou"
      },
      "id": "oIW6DxjAAvou"
    },
    {
      "cell_type": "markdown",
      "source": [
        "Check out the [Pandas official documentation](https://pandas.pydata.org/docs/) or Google other sites because there are plenty of functions and methods, so the notebook will be endless"
      ],
      "metadata": {
        "id": "yU8JBMFrFYvs"
      },
      "id": "yU8JBMFrFYvs"
    },
    {
      "cell_type": "markdown",
      "source": [
        "## Practice"
      ],
      "metadata": {
        "id": "QbnyakD6CZf4"
      },
      "id": "QbnyakD6CZf4"
    },
    {
      "cell_type": "markdown",
      "source": [
        "### 1. NumPy Array Operations\n",
        "\n",
        "Given a NumPy array `arr = np.array([1, 2, 3, 4, 5])`, write a function that squares each element in the array and returns a new array with the squared values. Do not use any form of looping (`for`, `while`, etc.)."
      ],
      "metadata": {
        "jupyter": {
          "source_hidden": false,
          "outputs_hidden": false
        },
        "noteable": {
          "cell_type": "markdown"
        },
        "id": "32c3e83c-e55b-4e54-8804-512556784215"
      },
      "id": "32c3e83c-e55b-4e54-8804-512556784215"
    },
    {
      "cell_type": "code",
      "source": [
        "import numpy as np\n",
        "\n",
        "def square_elements(arr):\n",
        "    # your code here\n",
        "\n",
        "arr = np.array([1, 2, 3, 4, 5])\n",
        "squared_arr = square_elements(arr)\n",
        "\n",
        "assert np.array_equal(squared_arr, np.array([1, 4, 9, 16, 25]))\n"
      ],
      "outputs": [],
      "execution_count": null,
      "metadata": {
        "jupyter": {
          "source_hidden": false,
          "outputs_hidden": false
        },
        "noteable": {
          "cell_type": "code"
        },
        "ExecuteTime": {
          "start_time": "2023-06-05T14:15:00.197377+00:00",
          "end_time": "2023-06-05T14:15:00.355253+00:00"
        },
        "id": "3c26ea4a-4b3b-47c6-8469-c8157a1aa266"
      },
      "id": "3c26ea4a-4b3b-47c6-8469-c8157a1aa266"
    },
    {
      "cell_type": "markdown",
      "source": [
        "### 2. Pandas DataFrame Creation\n",
        "\n",
        "Given two lists `names = ['Alice', 'Bob', 'Charlie', 'David']` and `ages = [25, 32, 18, 47]`, create a Pandas DataFrame that has a `'Name'` column with the names and an `'Age'` column with the ages."
      ],
      "metadata": {
        "jupyter": {
          "source_hidden": false,
          "outputs_hidden": false
        },
        "noteable": {
          "cell_type": "markdown"
        },
        "id": "fd7c53d0-202d-4e8b-be3e-d9ff4d538889"
      },
      "id": "fd7c53d0-202d-4e8b-be3e-d9ff4d538889"
    },
    {
      "cell_type": "code",
      "source": [
        "import pandas as pd\n",
        "\n",
        "def create_dataframe(names, ages):\n",
        "  # your code here\n",
        "\n",
        "names = ['Alice', 'Bob', 'Charlie', 'David']\n",
        "ages = [25, 32, 18, 47]\n",
        "df = create_dataframe(names, ages)\n",
        "\n",
        "assert df.equals(pd.DataFrame({'Name': ['Alice', 'Bob', 'Charlie', 'David'], 'Age': [25, 32, 18, 47]}))\n"
      ],
      "outputs": [],
      "execution_count": null,
      "metadata": {
        "jupyter": {
          "source_hidden": false,
          "outputs_hidden": false
        },
        "noteable": {
          "cell_type": "code"
        },
        "ExecuteTime": {
          "start_time": "2023-06-05T14:15:47.999354+00:00",
          "end_time": "2023-06-05T14:15:48.162069+00:00"
        },
        "id": "fac46eb9-59a2-4ec0-8792-60e29c7d3a88"
      },
      "id": "fac46eb9-59a2-4ec0-8792-60e29c7d3a88"
    },
    {
      "cell_type": "markdown",
      "source": [
        "### 3.  Data Filtering with Pandas\n",
        "\n",
        "Given a Pandas DataFrame `df` that has a `'Salary'` column, write a function that returns a new DataFrame containing only the rows in which the salary is above given `x`."
      ],
      "metadata": {
        "jupyter": {
          "source_hidden": false,
          "outputs_hidden": false
        },
        "noteable": {
          "cell_type": "markdown"
        },
        "id": "724f546e-6efd-4921-bb71-edb520b97609"
      },
      "id": "724f546e-6efd-4921-bb71-edb520b97609"
    },
    {
      "cell_type": "code",
      "source": [
        "def filter_by_salary(df, x):\n",
        "  # your code here\n",
        "\n",
        "data = {'Name': ['Alice', 'Bob', 'Charlie', 'David'], 'Salary': [50000, 60000, 70000, 40000]}\n",
        "df = pd.DataFrame(data)\n",
        "filtered_df = filter_by_salary(df, 50000)\n",
        "\n",
        "assert filtered_df.equals(pd.DataFrame({'Name': ['Bob', 'Charlie'], 'Salary': [60000, 70000]}, index=[1, 2]))\n"
      ],
      "outputs": [],
      "execution_count": null,
      "metadata": {
        "jupyter": {
          "source_hidden": false,
          "outputs_hidden": false
        },
        "noteable": {
          "cell_type": "code"
        },
        "ExecuteTime": {
          "start_time": "2023-06-05T14:16:35.781431+00:00",
          "end_time": "2023-06-05T14:16:35.940200+00:00"
        },
        "id": "6226e775-a206-437d-80e5-b88ce5f02713"
      },
      "id": "6226e775-a206-437d-80e5-b88ce5f02713"
    },
    {
      "cell_type": "markdown",
      "source": [
        "### 4. Matrix Multiplication with NumPy\n",
        "\n",
        "Given two NumPy arrays:\n",
        "\n",
        "\n",
        "\n",
        "```python\n",
        "A = np.array([[1, 2], [3, 4]])\n",
        "B = np.array([[5, 6], [7, 8]])\n",
        "```\n",
        "\n",
        "\n",
        "Write a function that performs matrix multiplication (*dot product*) of A and B. The function should return a new NumPy array with the result.\n",
        "\n"
      ],
      "metadata": {
        "jupyter": {
          "source_hidden": false,
          "outputs_hidden": false
        },
        "noteable": {
          "cell_type": "markdown"
        },
        "id": "5f7bc1d0-b171-4166-8fb9-c7d877dc5e33"
      },
      "id": "5f7bc1d0-b171-4166-8fb9-c7d877dc5e33"
    },
    {
      "cell_type": "code",
      "source": [
        "import numpy as np\n",
        "\n",
        "def matrix_multiply(A, B):\n",
        "  # your code here\n",
        "\n",
        "A = np.array([[1, 2], [3, 4]])\n",
        "B = np.array([[5, 6], [7, 8]])\n",
        "result = matrix_multiply(A, B)\n",
        "\n",
        "assert np.array_equal(result, np.array([[19, 22], [43, 50]]))\n"
      ],
      "outputs": [
        {
          "output_type": "stream",
          "name": "stdout",
          "text": [
            "[5 4 3 2 1]\n"
          ]
        }
      ],
      "execution_count": null,
      "metadata": {
        "jupyter": {
          "source_hidden": false,
          "outputs_hidden": false
        },
        "noteable": {
          "cell_type": "code"
        },
        "ExecuteTime": {
          "start_time": "2023-06-05T14:20:43.197089+00:00",
          "end_time": "2023-06-05T14:20:43.357065+00:00"
        },
        "id": "3d05fc3b-71ea-4dd2-ac5e-fb09a26745f2",
        "outputId": "79fbeb61-08ec-4e5d-d373-3cecc23dcdab"
      },
      "id": "3d05fc3b-71ea-4dd2-ac5e-fb09a26745f2"
    }
  ],
  "metadata": {
    "noteable-chatgpt": {
      "create_notebook": {
        "openai_conversation_id": "6838d158-90eb-5ef6-a155-f4433c81a652",
        "openai_ephemeral_user_id": "590151b4-76fd-55c3-931a-7ee8deb133ba",
        "openai_subdivision1_iso_code": "US-GA"
      }
    },
    "noteable": {
      "last_delta_id": "edecd8f3-5376-47ae-b800-348a9f61d144"
    },
    "selected_hardware_size": "small",
    "nteract": {
      "version": "noteable@2.9.0"
    },
    "colab": {
      "provenance": []
    },
    "language_info": {
      "name": "python"
    },
    "kernelspec": {
      "name": "python3",
      "display_name": "Python 3"
    }
  },
  "nbformat": 4,
  "nbformat_minor": 5
}