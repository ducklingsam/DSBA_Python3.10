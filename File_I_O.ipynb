{
  "cells": [
    {
      "cell_type": "markdown",
      "source": [
        "# File I/O \n",
        "\n",
        "File handling is an important part of any web application. Python has several functions for creating, reading, updating, and deleting files.\n",
        "\n",
        "In Python, a file operation takes place in the following order:\n",
        "\n",
        "- **Open a file**\n",
        "- **Read or write (perform operation)**\n",
        "- **Close the file**\n",
        "\n",
        "Let's dive into each of these operations."
      ],
      "metadata": {
        "jupyter": {
          "outputs_hidden": false,
          "source_hidden": false
        },
        "noteable": {
          "cell_type": "markdown"
        },
        "id": "3105c471-2e31-4f8b-b8be-bb6c80381b5d"
      },
      "id": "3105c471-2e31-4f8b-b8be-bb6c80381b5d"
    },
    {
      "cell_type": "markdown",
      "source": [
        "## Opening a File\n",
        "\n",
        "Python has a built-in function open() to open a file. This function returns a file object, also called a handle, as it is used to read or modify the file accordingly.\n",
        "\n",
        "```python\n",
        "f = open('myfile.txt') # open file in current directory\n",
        "f = open('C:/Python38/README.txt')  # specifying full path\n",
        "```\n",
        "\n",
        "We can specify the mode while opening a file. In mode, we specify whether we want to read 'r', write 'w' or append 'a' to the file. We also specify if we want to open the file in text mode or binary mode."
      ],
      "metadata": {
        "jupyter": {
          "outputs_hidden": false,
          "source_hidden": false
        },
        "noteable": {
          "cell_type": "markdown"
        },
        "id": "52e98419-e4d9-4f7e-87e1-454252e323e3"
      },
      "id": "52e98419-e4d9-4f7e-87e1-454252e323e3"
    },
    {
      "cell_type": "markdown",
      "source": [
        "## Python File Modes\n",
        "\n",
        "Mode | Description\n",
        "--- | ---\n",
        "'r' | Open a file for reading. (default)\n",
        "'w' | Open a file for writing. Creates a new file if it does not exist or truncates the file if it exists.\n",
        "'x' | Open a file for exclusive creation. If the file already exists, the operation fails.\n",
        "'a' | Open for appending at the end of the file without truncating it. Creates a new file if it does not exist.\n",
        "'t' | Open in text mode. (default)\n",
        "'b' | Open in binary mode.\n",
        "'+' | Open a file for updating (reading and writing)"
      ],
      "metadata": {
        "jupyter": {
          "source_hidden": false,
          "outputs_hidden": false
        },
        "noteable": {
          "cell_type": "markdown"
        },
        "id": "828a0349-bbab-49ba-8bd0-1109e890f5f5"
      },
      "id": "828a0349-bbab-49ba-8bd0-1109e890f5f5"
    },
    {
      "cell_type": "markdown",
      "source": [
        "## Closing a File\n",
        "\n",
        "Closing a file will free up the resources that were tied with the file. It is done using the close() method available in Python.\n",
        "\n",
        "Python has a garbage collector that cleans up unreferenced objects but we must not rely on it to close the file.\n",
        "\n",
        "```python\n",
        "f = open('myfile.txt')\n",
        "f.close()\n",
        "```\n",
        "\n",
        "This method is not entirely safe. If an exception occurs when we are performing some operation with the file, the code exits without closing the file.\n",
        "\n",
        "A safer way is to use a try...finally block.\n",
        "\n",
        "```python\n",
        "try:\n",
        "   f = open('myfile.txt')\n",
        "   # perform file operations\n",
        "finally:\n",
        "   f.close()\n",
        "```"
      ],
      "metadata": {
        "jupyter": {
          "source_hidden": false,
          "outputs_hidden": false
        },
        "noteable": {
          "cell_type": "markdown"
        },
        "id": "d83219d5-6fa9-4cf3-aeff-140057f69ffb"
      },
      "id": "d83219d5-6fa9-4cf3-aeff-140057f69ffb"
    },
    {
      "cell_type": "markdown",
      "source": [
        "## Writing to a File\n",
        "\n",
        "In order to write into a file in Python, we need to open it in write 'w', append 'a' or exclusive creation 'x' mode.\n",
        "\n",
        "We need to be careful with the 'w' mode, as it will overwrite into the file if it already exists. Due to this, all the previous data are erased.\n",
        "\n",
        "Writing a string or sequence of bytes (for binary files) is done using the write() method. This method returns the number of characters written to the file.\n",
        "\n",
        "```python\n",
        "with open('myfile.txt', 'w') as f:\n",
        "   f.write('This is a First File\\n')\n",
        "   f.write('Contains two lines\\n')\n",
        "```"
      ],
      "metadata": {
        "jupyter": {
          "source_hidden": false,
          "outputs_hidden": false
        },
        "noteable": {
          "cell_type": "markdown"
        },
        "id": "5f78bfbf-197a-4e4f-a8a9-f9080e6e6239"
      },
      "id": "5f78bfbf-197a-4e4f-a8a9-f9080e6e6239"
    },
    {
      "cell_type": "markdown",
      "source": [
        "## Reading from a File\n",
        "\n",
        "There are various methods available for this purpose. We can use the read(size) method to read in size number of data. If size parameter is not specified, it reads and returns up to the end of the file.\n",
        "\n",
        "We can read a file line-by-line using a for loop. This is both efficient and fast.\n",
        "\n",
        "```python\n",
        "f = open('myfile.txt', 'r')\n",
        "print(f.read())\n",
        "```\n",
        "\n",
        "Alternatively, we can use the readline() method to read individual lines of a file. This method reads a file till the newline, including the newline character.\n",
        "\n",
        "```python\n",
        "f = open('myfile.txt', 'r')\n",
        "print(f.readline())\n",
        "```"
      ],
      "metadata": {
        "jupyter": {
          "source_hidden": false,
          "outputs_hidden": false
        },
        "noteable": {
          "cell_type": "markdown"
        },
        "id": "d04f8297-0cd1-4e09-aeb3-5d34d640554f"
      },
      "id": "d04f8297-0cd1-4e09-aeb3-5d34d640554f"
    },
    {
      "cell_type": "markdown",
      "source": [
        "## With Statement\n",
        "\n",
        "In python, the with keyword is used when working with unmanaged resources (like file streams). It is like a neat syntax and exception handling mechanism that wraps the code within a context manager.\n",
        "\n",
        "The with statement simplifies exception handling by encapsulating common preparation and cleanup tasks in so-called context managers. This allows common try…except…finally usage patterns to be encapsulated for convenient reuse and reduce the amount of code you need to write for handling exceptions.\n",
        "\n",
        "```python\n",
        "with open('myfile.txt', 'r') as f:\n",
        "   print(f.read())\n",
        "```\n",
        "\n",
        "The above with statement will automatically close the file after the nested block of code. The advantage of using a with statement is that it is guaranteed to close the file no matter how the nested block exits."
      ],
      "metadata": {
        "jupyter": {
          "source_hidden": false,
          "outputs_hidden": false
        },
        "noteable": {
          "cell_type": "markdown"
        },
        "id": "bb705175-30c6-4757-a5ec-4b2f38d5db1e"
      },
      "id": "bb705175-30c6-4757-a5ec-4b2f38d5db1e"
    },
    {
      "cell_type": "code",
      "source": [
        "# Writing to a file\n",
        "with open('myfile.txt', 'w') as f:\n",
        "   f.write('This is a First File\\n')\n",
        "   f.write('Contains two lines\\n')\n",
        "\n",
        "# Reading from a file\n",
        "with open('myfile.txt', 'r') as f:\n",
        "   print(f.read())"
      ],
      "outputs": [
        {
          "output_type": "stream",
          "name": "stdout",
          "text": [
            "This is a First File\n",
            "Contains two lines\n",
            "\n"
          ]
        }
      ],
      "execution_count": null,
      "metadata": {
        "jupyter": {
          "source_hidden": false,
          "outputs_hidden": false
        },
        "noteable": {
          "cell_type": "code"
        },
        "ExecuteTime": {
          "start_time": "2023-06-05T13:35:35.700840+00:00",
          "end_time": "2023-06-05T13:35:35.857886+00:00"
        },
        "id": "f040682d-7ef3-4b87-a16d-a6e702cd9673",
        "outputId": "7fec0007-dd57-4ce4-8009-dcd932833af3"
      },
      "id": "f040682d-7ef3-4b87-a16d-a6e702cd9673"
    }
  ],
  "metadata": {
    "noteable-chatgpt": {
      "create_notebook": {
        "openai_conversation_id": "6838d158-90eb-5ef6-a155-f4433c81a652",
        "openai_ephemeral_user_id": "590151b4-76fd-55c3-931a-7ee8deb133ba",
        "openai_subdivision1_iso_code": "US-GA"
      }
    },
    "noteable": {
      "last_delta_id": "cd1d5183-2a10-44d4-a4a8-3f429ad09c36"
    },
    "selected_hardware_size": "small",
    "nteract": {
      "version": "noteable@2.9.0"
    },
    "colab": {
      "provenance": [],
      "toc_visible": true
    }
  },
  "nbformat": 4,
  "nbformat_minor": 5
}