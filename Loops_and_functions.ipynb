{
  "nbformat": 4,
  "nbformat_minor": 0,
  "metadata": {
    "colab": {
      "provenance": [],
      "toc_visible": true
    },
    "kernelspec": {
      "name": "python3",
      "display_name": "Python 3"
    },
    "language_info": {
      "name": "python"
    }
  },
  "cells": [
    {
      "cell_type": "markdown",
      "source": [
        "# Lesson 4. Loops and Functions\n",
        "`for`, `while` and `def`"
      ],
      "metadata": {
        "id": "bFEnqD5qfEGv"
      }
    },
    {
      "cell_type": "markdown",
      "source": [
        "## Theory"
      ],
      "metadata": {
        "id": "aGrIUtM9HQf2"
      }
    },
    {
      "cell_type": "markdown",
      "source": [
        "### Loops"
      ],
      "metadata": {
        "id": "T8UbJvHYhvvo"
      }
    },
    {
      "cell_type": "markdown",
      "source": [
        "#### **`For`** loop"
      ],
      "metadata": {
        "id": "7uKYvUfChnAq"
      }
    },
    {
      "cell_type": "code",
      "execution_count": null,
      "metadata": {
        "colab": {
          "base_uri": "https://localhost:8080/"
        },
        "id": "MlsbI6p7eOlF",
        "outputId": "9074e0c0-decd-40e0-ceb3-334bfe5b2b2a"
      },
      "outputs": [
        {
          "output_type": "stream",
          "name": "stdout",
          "text": [
            "1\n",
            "2\n",
            "3\n",
            "4\n",
            "Python\n",
            "is\n",
            "neat\n"
          ]
        }
      ],
      "source": [
        "my_list = [1, 2, 3, 4, \"Python\", \"is\", \"neat\"]\n",
        "for item in my_list:\n",
        "    print(item)"
      ]
    },
    {
      "cell_type": "markdown",
      "source": [
        "**`break`** \n",
        "\n",
        "used to break the loop after some condition"
      ],
      "metadata": {
        "id": "Q3xd4-yuh3ST"
      }
    },
    {
      "cell_type": "code",
      "source": [
        "for item in my_list:\n",
        "    if item == \"Python\":\n",
        "        break\n",
        "    print(item)"
      ],
      "metadata": {
        "colab": {
          "base_uri": "https://localhost:8080/"
        },
        "id": "cDDYH-zGiIAw",
        "outputId": "ddcaf898-a9d3-459b-a8b0-dbeafb0e3fef"
      },
      "execution_count": null,
      "outputs": [
        {
          "output_type": "stream",
          "name": "stdout",
          "text": [
            "1\n",
            "2\n",
            "3\n",
            "4\n"
          ]
        }
      ]
    },
    {
      "cell_type": "markdown",
      "source": [
        "**`continue`**\n",
        "\n",
        "used to skip the loop iteration after some condition"
      ],
      "metadata": {
        "id": "7gwkH2gniQtB"
      }
    },
    {
      "cell_type": "code",
      "source": [
        "for item in my_list:\n",
        "    if item == 1:\n",
        "        continue\n",
        "    print(item)"
      ],
      "metadata": {
        "colab": {
          "base_uri": "https://localhost:8080/"
        },
        "id": "_tU6QSVZiWIg",
        "outputId": "1a87b7ee-b6a1-40bd-b078-23e1c8292034"
      },
      "execution_count": null,
      "outputs": [
        {
          "output_type": "stream",
          "name": "stdout",
          "text": [
            "2\n",
            "3\n",
            "4\n",
            "Python\n",
            "is\n",
            "neat\n"
          ]
        }
      ]
    },
    {
      "cell_type": "markdown",
      "source": [
        "**`enumerate()`**\n",
        "\n",
        "in case you need to also know the index"
      ],
      "metadata": {
        "id": "W-npV3k0igrP"
      }
    },
    {
      "cell_type": "code",
      "source": [
        "for idx, val in enumerate(my_list):\n",
        "    print(f\"idx: {idx}, value: {val}\")"
      ],
      "metadata": {
        "colab": {
          "base_uri": "https://localhost:8080/"
        },
        "id": "RFCHKK9titUj",
        "outputId": "5e16b886-32b7-403e-8e88-fe5e4c478cb9"
      },
      "execution_count": null,
      "outputs": [
        {
          "output_type": "stream",
          "name": "stdout",
          "text": [
            "idx: 0, value: 1\n",
            "idx: 1, value: 2\n",
            "idx: 2, value: 3\n",
            "idx: 3, value: 4\n",
            "idx: 4, value: Python\n",
            "idx: 5, value: is\n",
            "idx: 6, value: neat\n"
          ]
        }
      ]
    },
    {
      "cell_type": "markdown",
      "source": [
        "**`range(start, end, step)`**\n",
        "\n",
        "repeat `n` times\n",
        "\n",
        "it is not necessary to enter `start` or `step`. By default, `start` is 0, `step` is 1"
      ],
      "metadata": {
        "id": "CbYQozILwjKt"
      }
    },
    {
      "cell_type": "code",
      "source": [
        "for i in range(5):\n",
        "  print(i)"
      ],
      "metadata": {
        "colab": {
          "base_uri": "https://localhost:8080/"
        },
        "id": "_t7skUMlwll2",
        "outputId": "91cc3434-ebb6-4340-f511-81438612ded1"
      },
      "execution_count": null,
      "outputs": [
        {
          "output_type": "stream",
          "name": "stdout",
          "text": [
            "0\n",
            "1\n",
            "2\n",
            "3\n",
            "4\n"
          ]
        }
      ]
    },
    {
      "cell_type": "code",
      "source": [
        "for i in range(1, 5):\n",
        "  print(i)"
      ],
      "metadata": {
        "colab": {
          "base_uri": "https://localhost:8080/"
        },
        "id": "YjRQLkvOw_er",
        "outputId": "c8887d81-0601-40c5-bd09-f2a32b3a6c29"
      },
      "execution_count": null,
      "outputs": [
        {
          "output_type": "stream",
          "name": "stdout",
          "text": [
            "1\n",
            "2\n",
            "3\n",
            "4\n"
          ]
        }
      ]
    },
    {
      "cell_type": "code",
      "source": [
        "for i in range(5, 1, -1):\n",
        "  print(i)"
      ],
      "metadata": {
        "colab": {
          "base_uri": "https://localhost:8080/"
        },
        "id": "uMIz7LwyxD6U",
        "outputId": "ba270f69-2090-4153-ea71-de18edd3edcb"
      },
      "execution_count": null,
      "outputs": [
        {
          "output_type": "stream",
          "name": "stdout",
          "text": [
            "5\n",
            "4\n",
            "3\n",
            "2\n"
          ]
        }
      ]
    },
    {
      "cell_type": "markdown",
      "source": [
        "#### **`While`** loop"
      ],
      "metadata": {
        "id": "UtkqvMPcjUVE"
      }
    },
    {
      "cell_type": "markdown",
      "source": [
        "Usage\n",
        "\n",
        "```\n",
        "while condition:\n",
        "  statement(s)\n",
        "```\n",
        "\n",
        "Suppose the following\n",
        "\n",
        "```\n",
        "num = 0\n",
        "while num < 5:\n",
        "  num += 1\n",
        "```\n",
        "\n",
        "We can read it like this:\n",
        "while `num` is less than 5, add 1 to the `num`\n"
      ],
      "metadata": {
        "id": "vRO4cNfvjygt"
      }
    },
    {
      "cell_type": "code",
      "source": [
        "a = [1, 2, 3, 4]\n",
        " \n",
        "while a:\n",
        "    print(a.pop())"
      ],
      "metadata": {
        "colab": {
          "base_uri": "https://localhost:8080/"
        },
        "id": "1d_kusEJkqQE",
        "outputId": "9e7b5875-f142-4dfb-cd79-ae054d8b615a"
      },
      "execution_count": null,
      "outputs": [
        {
          "output_type": "stream",
          "name": "stdout",
          "text": [
            "4\n",
            "3\n",
            "2\n",
            "1\n"
          ]
        }
      ]
    },
    {
      "cell_type": "markdown",
      "source": [
        "We can make endless loop and `break` it after some condition"
      ],
      "metadata": {
        "id": "UZlJFa7QljCF"
      }
    },
    {
      "cell_type": "code",
      "source": [
        "num = 5\n",
        "while True:\n",
        "  num += 1\n",
        "  print(num)\n",
        "  if num == 10:\n",
        "    break\n",
        "  "
      ],
      "metadata": {
        "colab": {
          "base_uri": "https://localhost:8080/"
        },
        "id": "AATmeYBylpy3",
        "outputId": "2d1d88db-00d8-48e5-e081-95edb7290eb4"
      },
      "execution_count": null,
      "outputs": [
        {
          "output_type": "stream",
          "name": "stdout",
          "text": [
            "6\n",
            "7\n",
            "8\n",
            "9\n",
            "10\n"
          ]
        }
      ]
    },
    {
      "cell_type": "markdown",
      "source": [
        "### Functions"
      ],
      "metadata": {
        "id": "u3Qgtgdil9Xf"
      }
    },
    {
      "cell_type": "markdown",
      "source": [
        "A **function** is a block of code which only runs when it is **called**.\n",
        "\n",
        "You can **pass data**, known as **parameters**, into a **function**.\n",
        "\n",
        "A **function** can `return` data as a result."
      ],
      "metadata": {
        "id": "31TecwAIpf4a"
      }
    },
    {
      "cell_type": "markdown",
      "source": [
        "In Python a function is defined using the `def` keyword:"
      ],
      "metadata": {
        "id": "19tBUr8Hpuqb"
      }
    },
    {
      "cell_type": "code",
      "source": [
        "def my_first_function():\n",
        "  print(\"Hello! This is my first function\")"
      ],
      "metadata": {
        "id": "c98-GlmYpw-H"
      },
      "execution_count": null,
      "outputs": []
    },
    {
      "cell_type": "markdown",
      "source": [
        "After declaring the function, we can call it wherever we want"
      ],
      "metadata": {
        "id": "6Ri-M0csp6sW"
      }
    },
    {
      "cell_type": "code",
      "source": [
        "my_first_function()"
      ],
      "metadata": {
        "colab": {
          "base_uri": "https://localhost:8080/"
        },
        "id": "jw90Ot44qAXy",
        "outputId": "1a8da6e6-2c7b-4573-c2df-8681bf2fd496"
      },
      "execution_count": null,
      "outputs": [
        {
          "output_type": "stream",
          "name": "stdout",
          "text": [
            "Hello! This is my first function\n"
          ]
        }
      ]
    },
    {
      "cell_type": "markdown",
      "source": [
        "**Arguments**"
      ],
      "metadata": {
        "id": "dNh_UDeqsNhX"
      }
    },
    {
      "cell_type": "code",
      "source": [
        "def my_new_function(name):\n",
        "  print(\"Hello, \" + name)\n",
        "\n",
        "my_new_function(\"Sam\")\n",
        "my_new_function(\"John\")"
      ],
      "metadata": {
        "colab": {
          "base_uri": "https://localhost:8080/"
        },
        "id": "MjO3l-4ZsTEF",
        "outputId": "a31794f0-f58d-47e1-bc70-ecc850e77730"
      },
      "execution_count": null,
      "outputs": [
        {
          "output_type": "stream",
          "name": "stdout",
          "text": [
            "Hello, Sam\n",
            "Hello, John\n"
          ]
        }
      ]
    },
    {
      "cell_type": "code",
      "source": [
        "first_name = \"James\"\n",
        "'''\n",
        "note that it is not necessary to pass the variable \n",
        "with the exact name in the function\n",
        "'''\n",
        "my_new_function(first_name) "
      ],
      "metadata": {
        "colab": {
          "base_uri": "https://localhost:8080/"
        },
        "id": "m9hxLUf2skZJ",
        "outputId": "5a8d8259-88f6-4245-eebc-716bec35e8bf"
      },
      "execution_count": null,
      "outputs": [
        {
          "output_type": "stream",
          "name": "stdout",
          "text": [
            "Hello, James\n"
          ]
        }
      ]
    },
    {
      "cell_type": "markdown",
      "source": [
        "However, you must pass the exact number of variables, as declared, if they don't have the default value."
      ],
      "metadata": {
        "id": "bHUwUdXNtIS9"
      }
    },
    {
      "cell_type": "code",
      "source": [
        "def error_function(error, msg):\n",
        "  print(error, msg)\n",
        "\n",
        "error_function('Not found')"
      ],
      "metadata": {
        "colab": {
          "base_uri": "https://localhost:8080/",
          "height": 198
        },
        "id": "30BMakjotUoa",
        "outputId": "6deae6fa-0ce3-4ceb-e6e8-6f3dc17e0e0a"
      },
      "execution_count": null,
      "outputs": [
        {
          "output_type": "error",
          "ename": "TypeError",
          "evalue": "ignored",
          "traceback": [
            "\u001b[0;31m---------------------------------------------------------------------------\u001b[0m",
            "\u001b[0;31mTypeError\u001b[0m                                 Traceback (most recent call last)",
            "\u001b[0;32m<ipython-input-13-3fb34801e7fc>\u001b[0m in \u001b[0;36m<cell line: 4>\u001b[0;34m()\u001b[0m\n\u001b[1;32m      2\u001b[0m   \u001b[0mprint\u001b[0m\u001b[0;34m(\u001b[0m\u001b[0merror\u001b[0m\u001b[0;34m,\u001b[0m \u001b[0mmsg\u001b[0m\u001b[0;34m)\u001b[0m\u001b[0;34m\u001b[0m\u001b[0;34m\u001b[0m\u001b[0m\n\u001b[1;32m      3\u001b[0m \u001b[0;34m\u001b[0m\u001b[0m\n\u001b[0;32m----> 4\u001b[0;31m \u001b[0merror_function\u001b[0m\u001b[0;34m(\u001b[0m\u001b[0;34m'Not found'\u001b[0m\u001b[0;34m)\u001b[0m\u001b[0;34m\u001b[0m\u001b[0;34m\u001b[0m\u001b[0m\n\u001b[0m",
            "\u001b[0;31mTypeError\u001b[0m: error_function() missing 1 required positional argument: 'msg'"
          ]
        }
      ]
    },
    {
      "cell_type": "code",
      "source": [
        "def error_function(error, msg='default value'):\n",
        "  print(error, msg)\n",
        "\n",
        "error_function(\"not found\")\n",
        "error_function(\"not found\", \"msg passed\")"
      ],
      "metadata": {
        "colab": {
          "base_uri": "https://localhost:8080/"
        },
        "id": "Il_72c4Vt8tP",
        "outputId": "fdfa89dd-9e58-4756-d5a1-c200e8941a4e"
      },
      "execution_count": null,
      "outputs": [
        {
          "output_type": "stream",
          "name": "stdout",
          "text": [
            "not found default value\n",
            "not found msg passed\n"
          ]
        }
      ]
    },
    {
      "cell_type": "markdown",
      "source": [
        "As you can see, we declared that `msg` should be `'default value'` if we haven't passed anything"
      ],
      "metadata": {
        "id": "C0_AU5SFukG3"
      }
    },
    {
      "cell_type": "markdown",
      "source": [
        "**`return`**"
      ],
      "metadata": {
        "id": "5tkJ8P7nvcIH"
      }
    },
    {
      "cell_type": "markdown",
      "source": [
        "Usually we use functions in order to remove repetitive chunks of code.\n",
        "\n",
        "Assume\n",
        "\n",
        "```\n",
        "x = int(input())\n",
        "y = int(input())\n",
        "\n",
        "ans = x + y\n",
        "ans += x + y\n",
        "ans += x + y\n",
        "ans += x + y\n",
        "ans += x + y\n",
        "ans += x + y\n",
        "ans += x + y\n",
        "ans += x + y\n",
        "```\n",
        "we can do the following\n",
        "\n",
        "\n",
        "```\n",
        "def summ(x, y, ans):\n",
        "  ans = x + y\n",
        "  return ans\n",
        "\n",
        "x = int(input())\n",
        "y = int(input())\n",
        "\n",
        "ans = 0\n",
        "\n",
        "for i in range(8):\n",
        "  ans = summ(x, y, ans)\n",
        "```\n",
        "\n",
        "Code looks much more elegant, isn't it?:)\n"
      ],
      "metadata": {
        "id": "74TOjEjDvkZI"
      }
    },
    {
      "cell_type": "markdown",
      "source": [
        "**Recursion**"
      ],
      "metadata": {
        "id": "RMVXNYv08wbr"
      }
    },
    {
      "cell_type": "code",
      "source": [
        "def factorial(n):\n",
        "    if n == 0:\n",
        "        return 1\n",
        "    else:\n",
        "        return n * factorial(n - 1)\n",
        "\n",
        "print(factorial(5))"
      ],
      "metadata": {
        "colab": {
          "base_uri": "https://localhost:8080/"
        },
        "id": "X_zVZ1dFvkHD",
        "outputId": "009cda96-7ae4-4b1f-f339-3b623b34801d"
      },
      "execution_count": null,
      "outputs": [
        {
          "output_type": "stream",
          "name": "stdout",
          "text": [
            "120\n"
          ]
        }
      ]
    },
    {
      "cell_type": "markdown",
      "source": [
        "**Rules of etiquette**\n",
        "\n",
        "To make the code easier to read, and to avoid confusion, both for you and your colleagues, you are better off using the function annotation\n",
        "\n"
      ],
      "metadata": {
        "id": "Vk4A5cArrcGA"
      }
    },
    {
      "cell_type": "code",
      "source": [
        "def return_me_int(number: float) -> int:\n",
        "  if number == \"12\":\n",
        "    return \"12\"\n",
        "  return int(number)\n",
        "\n",
        "print(return_me_int(12.23))\n",
        "print(return_me_int(\"12\"))"
      ],
      "metadata": {
        "colab": {
          "base_uri": "https://localhost:8080/"
        },
        "id": "OPrQJSbzsfbZ",
        "outputId": "570d32d9-71b1-41ba-9be8-06f1679dcc3e"
      },
      "execution_count": null,
      "outputs": [
        {
          "output_type": "stream",
          "name": "stdout",
          "text": [
            "12\n",
            "12\n"
          ]
        }
      ]
    },
    {
      "cell_type": "markdown",
      "source": [
        "Here, we already know that passed `number` are normally `float` and the returned value should be `int`. However, no exception will be raised, if we return or pass any other type."
      ],
      "metadata": {
        "id": "YjrraeNYswWD"
      }
    },
    {
      "cell_type": "markdown",
      "source": [
        "Annotations are not necessary types, they could be string. And this could be also useful. For example, we have function that calculates kinetic energy and returns `'Joules'`. So, if we don't know what we should pass in order to obtain correct answer, we can use `__annotations__` method which return the dictionary of all annotations. So, now we know, that mass and velocity are in KG and in M/S respectively, and return is in Joules. "
      ],
      "metadata": {
        "id": "Da5xk_BUuDvg"
      }
    },
    {
      "cell_type": "code",
      "source": [
        "def kinetic_energy(m: 'in KG', v: 'in M/S')->'Joules': \n",
        "    return 1/2*m*v**2\n",
        "\n",
        "kinetic_energy.__annotations__"
      ],
      "metadata": {
        "colab": {
          "base_uri": "https://localhost:8080/"
        },
        "id": "0CmJ8M3LtWqF",
        "outputId": "2fcdd228-8601-43e3-c5f9-d614e3404ad5"
      },
      "execution_count": null,
      "outputs": [
        {
          "output_type": "execute_result",
          "data": {
            "text/plain": [
              "{'m': 'in KG', 'v': 'in M/S', 'return': 'Joules'}"
            ]
          },
          "metadata": {},
          "execution_count": 6
        }
      ]
    },
    {
      "cell_type": "markdown",
      "source": [
        "Annotation is also useful to print the values like that."
      ],
      "metadata": {
        "id": "2ZRyddyIvEXF"
      }
    },
    {
      "cell_type": "code",
      "source": [
        "print('{:,} {}'.format(kinetic_energy(12,30),\n",
        "      kinetic_energy.__annotations__['return']))"
      ],
      "metadata": {
        "colab": {
          "base_uri": "https://localhost:8080/"
        },
        "id": "_ZVPXzsrtrni",
        "outputId": "7b324cfc-d2bb-4193-e796-bc0dd9f33ac1"
      },
      "execution_count": null,
      "outputs": [
        {
          "output_type": "stream",
          "name": "stdout",
          "text": [
            "5,400.0 Joules\n"
          ]
        }
      ]
    },
    {
      "cell_type": "markdown",
      "source": [
        "## Practice"
      ],
      "metadata": {
        "id": "wUtT4BSHHTAe"
      }
    },
    {
      "cell_type": "markdown",
      "source": [
        "### 1. Sum of Squares Function"
      ],
      "metadata": {
        "id": "HhUzAFK8AJMH"
      }
    },
    {
      "cell_type": "markdown",
      "source": [
        "Write a function `sum_of_squares(n)` that accepts an integer `n` and calculates the sum of the squares of all numbers from 1 to `n`. Use a for loop to calculate the sum."
      ],
      "metadata": {
        "id": "GXi9YGmyANRQ"
      }
    },
    {
      "cell_type": "code",
      "source": [
        "# your code here"
      ],
      "metadata": {
        "id": "FitQowgoAY3V"
      },
      "execution_count": null,
      "outputs": []
    },
    {
      "cell_type": "markdown",
      "source": [
        "Check"
      ],
      "metadata": {
        "id": "cnB0v2OXAbWD"
      }
    },
    {
      "cell_type": "code",
      "source": [
        "assert sum_of_squares(1) == 1\n",
        "assert sum_of_squares(2) == 5\n",
        "assert sum_of_squares(3) == 14\n",
        "assert sum_of_squares(10) == 385"
      ],
      "metadata": {
        "id": "IRnG8JrnAbz3"
      },
      "execution_count": null,
      "outputs": []
    },
    {
      "cell_type": "markdown",
      "source": [
        "### 2. Prime Numbers Function"
      ],
      "metadata": {
        "id": "OK4hXcQQAe4N"
      }
    },
    {
      "cell_type": "markdown",
      "source": [
        "Write a function `is_prime(num)` that accepts a number `num` and returns `True` if it's a prime number and `False` otherwise. Remember, a prime number is a number greater than 1 and has no divisors other than 1 and itself."
      ],
      "metadata": {
        "id": "mRTRoR-oAiMN"
      }
    },
    {
      "cell_type": "code",
      "source": [
        "# your code here"
      ],
      "metadata": {
        "id": "-9c3OZkgAqT2"
      },
      "execution_count": null,
      "outputs": []
    },
    {
      "cell_type": "markdown",
      "source": [
        "Check"
      ],
      "metadata": {
        "id": "bAR9pYlmArln"
      }
    },
    {
      "cell_type": "code",
      "source": [
        "assert is_prime(1) == False\n",
        "assert is_prime(2) == True\n",
        "assert is_prime(3) == True\n",
        "assert is_prime(4) == False\n",
        "assert is_prime(13) == True"
      ],
      "metadata": {
        "id": "8XaITdCKAsYq"
      },
      "execution_count": null,
      "outputs": []
    },
    {
      "cell_type": "markdown",
      "source": [
        "### 3. Reverse String"
      ],
      "metadata": {
        "id": "5r6_JFDbAv8C"
      }
    },
    {
      "cell_type": "markdown",
      "source": [
        "Write a function `reverse_string(s)` that takes a string `s` as input and returns the reverse of the string using a loop. **Do not use the built-in `[::-1]` shortcut to reverse the string.**"
      ],
      "metadata": {
        "id": "1Oo0JF9bA0CJ"
      }
    },
    {
      "cell_type": "code",
      "source": [
        "# your code here"
      ],
      "metadata": {
        "id": "Uli4_xpTA6at"
      },
      "execution_count": null,
      "outputs": []
    },
    {
      "cell_type": "markdown",
      "source": [
        "Check"
      ],
      "metadata": {
        "id": "qAMeYvBHA7S0"
      }
    },
    {
      "cell_type": "code",
      "source": [
        "assert reverse_string(\"hello\") == \"olleh\"\n",
        "assert reverse_string(\"Python\") == \"nohtyP\"\n",
        "assert reverse_string(\"123456\") == \"654321\""
      ],
      "metadata": {
        "id": "UogYExlHA-ZR"
      },
      "execution_count": null,
      "outputs": []
    },
    {
      "cell_type": "markdown",
      "source": [
        "### 4. Count Vowels"
      ],
      "metadata": {
        "id": "huh3tLPoBJN9"
      }
    },
    {
      "cell_type": "markdown",
      "source": [
        "Write a function `count_vowels(s)` that accepts a string `s` and returns the count of vowels *(a, e, i, o, u)* in the string. Make sure the function can handle both uppercase and lowercase letters."
      ],
      "metadata": {
        "id": "f_mGEG1CBOVt"
      }
    },
    {
      "cell_type": "code",
      "source": [
        "# your code here"
      ],
      "metadata": {
        "id": "JHd9ImaEBN-Q"
      },
      "execution_count": null,
      "outputs": []
    },
    {
      "cell_type": "markdown",
      "source": [
        "Check"
      ],
      "metadata": {
        "id": "zSqgGd4oBV-x"
      }
    },
    {
      "cell_type": "code",
      "source": [
        "assert count_vowels(\"hello\") == 2\n",
        "assert count_vowels(\"Python\") == 1\n",
        "assert count_vowels(\"AEIOU\") == 5\n",
        "assert count_vowels(\"rhythm\") == 0"
      ],
      "metadata": {
        "id": "4TEv1AIrBK_Q"
      },
      "execution_count": null,
      "outputs": []
    }
  ]
}