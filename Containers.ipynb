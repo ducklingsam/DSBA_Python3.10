{
  "nbformat": 4,
  "nbformat_minor": 0,
  "metadata": {
    "colab": {
      "provenance": [],
      "toc_visible": true
    },
    "kernelspec": {
      "name": "python3",
      "display_name": "Python 3"
    },
    "language_info": {
      "name": "python"
    }
  },
  "cells": [
    {
      "cell_type": "markdown",
      "source": [
        "# Lesson 3. Containers\n",
        "\n",
        "Today we will talk about containers. To be more precise, about lists and dictionaries. You can discover more containers such as deque, queue, etc. via Google"
      ],
      "metadata": {
        "id": "rYgUuEaW0XUO"
      }
    },
    {
      "cell_type": "markdown",
      "source": [
        "## Theory"
      ],
      "metadata": {
        "id": "14EVzxwT02YL"
      }
    },
    {
      "cell_type": "markdown",
      "source": [
        "### Lists"
      ],
      "metadata": {
        "id": "cBO1DQ8-05zp"
      }
    },
    {
      "cell_type": "code",
      "execution_count": null,
      "metadata": {
        "colab": {
          "base_uri": "https://localhost:8080/"
        },
        "id": "723hb27L0Cbz",
        "outputId": "98c6e3f5-0838-41d1-ed29-83c678cb36c9"
      },
      "outputs": [
        {
          "output_type": "stream",
          "name": "stdout",
          "text": [
            "Types: <class 'list'> <class 'list'>\n",
            "Lengths: 0 3\n"
          ]
        }
      ],
      "source": [
        "a = list() # best way to declare list \n",
        "b = [1, 2, 3] # you can also declare this way\n",
        "print(\"Types:\", type(a), type(b))\n",
        "print(\"Lengths:\", len(a), len(b))"
      ]
    },
    {
      "cell_type": "markdown",
      "source": [
        "**Accessing values**\n",
        "\n",
        "Keep in mind, values counts down from 0 "
      ],
      "metadata": {
        "id": "65g9WKaP1_5N"
      }
    },
    {
      "cell_type": "code",
      "source": [
        "b[1]"
      ],
      "metadata": {
        "colab": {
          "base_uri": "https://localhost:8080/"
        },
        "id": "TFX2VTgh2Fo0",
        "outputId": "12d20fbf-36d6-4c6c-9d41-7339cd33e43f"
      },
      "execution_count": null,
      "outputs": [
        {
          "output_type": "execute_result",
          "data": {
            "text/plain": [
              "2"
            ]
          },
          "metadata": {},
          "execution_count": 5
        }
      ]
    },
    {
      "cell_type": "markdown",
      "source": [
        "List also can be 2-dimensional"
      ],
      "metadata": {
        "id": "AHlxR2Mv2XkR"
      }
    },
    {
      "cell_type": "code",
      "source": [
        "two_dim = [[1, 2], [3, 4], [5, 6]]\n",
        "print(two_dim[0][1])\n",
        "print(two_dim[1])"
      ],
      "metadata": {
        "colab": {
          "base_uri": "https://localhost:8080/"
        },
        "id": "GfCa-Mc42byM",
        "outputId": "89a7687c-29d9-4d13-ffc9-b598e1a616b5"
      },
      "execution_count": null,
      "outputs": [
        {
          "output_type": "stream",
          "name": "stdout",
          "text": [
            "2\n",
            "[3, 4]\n"
          ]
        }
      ]
    },
    {
      "cell_type": "markdown",
      "source": [
        "**Checking if certain value is present in list**"
      ],
      "metadata": {
        "id": "KyRwhSgh3Icq"
      }
    },
    {
      "cell_type": "code",
      "source": [
        "languages = [\"Python\", \"C++\", \"Java\", \"PHP\"]\n",
        "if \"Python\" in languages:\n",
        "  print(\"Python is here!\")"
      ],
      "metadata": {
        "colab": {
          "base_uri": "https://localhost:8080/"
        },
        "id": "gA1La6Qy3J8_",
        "outputId": "74b4f069-d342-4f8b-bbad-e7d22ae56ab5"
      },
      "execution_count": null,
      "outputs": [
        {
          "output_type": "stream",
          "name": "stdout",
          "text": [
            "Python is here!\n"
          ]
        }
      ]
    },
    {
      "cell_type": "code",
      "source": [
        "some_stuff = [1, 2, \"PLM\"]\n",
        "if 6 not in some_stuff:\n",
        "  print(\"6 is lost\")"
      ],
      "metadata": {
        "colab": {
          "base_uri": "https://localhost:8080/"
        },
        "id": "JneZgA2W3WwZ",
        "outputId": "688bdd0f-00e8-47e8-dba2-1f5c031b0aef"
      },
      "execution_count": null,
      "outputs": [
        {
          "output_type": "stream",
          "name": "stdout",
          "text": [
            "6 is lost\n"
          ]
        }
      ]
    },
    {
      "cell_type": "markdown",
      "source": [
        "#### Functions & Methods"
      ],
      "metadata": {
        "id": "SYfyQQWr4r3K"
      }
    },
    {
      "cell_type": "code",
      "source": [
        "a = list()\n",
        "b = [2, 5, 4, 3]\n",
        "\n",
        "# add to the end\n",
        "a.append(1) \n",
        "print(a)\n",
        "\n",
        "# extend the list\n",
        "a.extend(b)\n",
        "print(a)\n",
        "\n",
        "# another way to extend\n",
        "b += a\n",
        "\n",
        "# reverse the list\n",
        "a.reverse() \n",
        "print(a)\n",
        "\n",
        "# remove element\n",
        "a.remove(5)\n",
        "print(a)\n",
        "\n",
        "# sort the list\n",
        "a.sort() \n",
        "print(a)\n",
        "\n",
        "# sort in descending order\n",
        "a.sort(reverse=True) \n",
        "print(a)"
      ],
      "metadata": {
        "colab": {
          "base_uri": "https://localhost:8080/"
        },
        "id": "rT0W1WjV47th",
        "outputId": "5c4fcb69-3e94-48ba-80f0-306d3596c965"
      },
      "execution_count": null,
      "outputs": [
        {
          "output_type": "stream",
          "name": "stdout",
          "text": [
            "[1]\n",
            "[1, 2, 5, 4, 3]\n",
            "[3, 4, 5, 2, 1]\n",
            "[3, 4, 2, 1]\n",
            "[1, 2, 3, 4]\n",
            "[4, 3, 2, 1]\n"
          ]
        }
      ]
    },
    {
      "cell_type": "markdown",
      "source": [
        "There is a sorted() function also, there is main differences between sorted() and sort()\n",
        "\n",
        "|                  | sorted()                                                                       | sort()                                           |\n",
        "|------------------|--------------------------------------------------------------------------------|--------------------------------------------------|\n",
        "| **Usage**           | sorted_list = sorted(list)                                                     | list.sort()                                      |\n",
        "| **Return**           | The sorted() function returns a sorted list of the specific iterable object.   | The sort() method sorts the list.                |\n",
        "| **Order**            | We can specify ascending or descending order while using the sorted() function | It sorts the list in ascending order by default. |\n",
        "| **Syntax**           | sorted(iterable, key=key, reverse=reverse)                                     | list.sort(reverse=True\\|False, key=myFunc)       |\n",
        "| **Comments**         | It can only sort a list that contains only one type of value.                  | It sorts the list in-place.                      |\n",
        "| **Speed and memory** | sorted accepts any iterable                                                    | Faster and consumes around 24% less memory       |"
      ],
      "metadata": {
        "id": "l4a4UtRZ6ibb"
      }
    },
    {
      "cell_type": "markdown",
      "source": [
        "More function can be discovered [here](https://pythonworld.ru/tipy-dannyx-v-python/spiski-list-funkcii-i-metody-spiskov.html)"
      ],
      "metadata": {
        "id": "A13wz86V8q_w"
      }
    },
    {
      "cell_type": "markdown",
      "source": [
        "### Dictionaries"
      ],
      "metadata": {
        "id": "FtWGnu559Ou0"
      }
    },
    {
      "cell_type": "markdown",
      "source": [
        "Collections of key-value pairs. \n",
        "\n",
        "Note that key should be unique value!"
      ],
      "metadata": {
        "id": "85S48Yg-9fnP"
      }
    },
    {
      "cell_type": "markdown",
      "source": [
        "**Initialization**"
      ],
      "metadata": {
        "id": "9fDFzidg9pxI"
      }
    },
    {
      "cell_type": "code",
      "source": [
        "dict1 = {\"value1\": 1.6, \"value2\": 10, \"name\": \"John Doe\"}\n",
        "dict2 = dict(value1=1.6, value2=10, name=\"John Doe\")\n",
        "\n",
        "print(dict1)\n",
        "print(dict2)\n",
        "\n",
        "print(f\"equals: {dict1 == dict2}\")\n",
        "print(f\"length: {len(dict1)}\")"
      ],
      "metadata": {
        "colab": {
          "base_uri": "https://localhost:8080/"
        },
        "id": "sl4Y0wXe9743",
        "outputId": "ab55b9d2-ffaa-4ad8-edc0-0969afedb33b"
      },
      "execution_count": null,
      "outputs": [
        {
          "output_type": "stream",
          "name": "stdout",
          "text": [
            "{'value1': 1.6, 'value2': 10, 'name': 'John Doe'}\n",
            "{'value1': 1.6, 'value2': 10, 'name': 'John Doe'}\n",
            "equals: True\n",
            "length: 3\n"
          ]
        }
      ]
    },
    {
      "cell_type": "markdown",
      "source": [
        "**Accessing and setting values**"
      ],
      "metadata": {
        "id": "x_gJYGS6-Wc7"
      }
    },
    {
      "cell_type": "code",
      "source": [
        "my_dict = dict()\n",
        "my_dict[\"key1\"] = \"value1\"\n",
        "my_dict[\"key2\"] = 99\n",
        "my_dict[\"key1\"] = \"new value\"  # overwriting existing value\n",
        "print(my_dict)\n",
        "print(f\"value of key1: {my_dict['key1']}\")"
      ],
      "metadata": {
        "colab": {
          "base_uri": "https://localhost:8080/"
        },
        "id": "oR2Opbcd-Y1q",
        "outputId": "a1100ec2-eb62-4bbf-bccd-a0aa48bac052"
      },
      "execution_count": null,
      "outputs": [
        {
          "output_type": "stream",
          "name": "stdout",
          "text": [
            "{'key1': 'new value', 'key2': 99}\n",
            "value of key1: new value\n"
          ]
        }
      ]
    },
    {
      "cell_type": "markdown",
      "source": [
        "**Deleting**"
      ],
      "metadata": {
        "id": "AByhXrcT-nw1"
      }
    },
    {
      "cell_type": "code",
      "source": [
        "my_dict = {\"key1\": \"value1\", \"key2\": 99, \"keyX\": \"valueX\"}\n",
        "del my_dict[\"keyX\"]\n",
        "print(my_dict)\n",
        "\n",
        "# Usually better to make sure that the key exists (see also pop() and popitem())\n",
        "key_to_delete = \"my_key\"\n",
        "if key_to_delete in my_dict:\n",
        "    del my_dict[key_to_delete]\n",
        "else:\n",
        "    print(f\"{key_to_delete} is not in {my_dict}\")"
      ],
      "metadata": {
        "colab": {
          "base_uri": "https://localhost:8080/"
        },
        "id": "5nXM46v6-owC",
        "outputId": "f5e2899c-7ec8-425d-e987-43588dc53534"
      },
      "execution_count": null,
      "outputs": [
        {
          "output_type": "stream",
          "name": "stdout",
          "text": [
            "{'key1': 'value1', 'key2': 99}\n",
            "my_key is not in {'key1': 'value1', 'key2': 99}\n"
          ]
        }
      ]
    },
    {
      "cell_type": "markdown",
      "source": [
        "#### Functions & methods"
      ],
      "metadata": {
        "id": "d_OLEQgO-2nw"
      }
    },
    {
      "cell_type": "markdown",
      "source": [
        "`dict.keys(), dict.values(), dict.items()`"
      ],
      "metadata": {
        "id": "L4MekOxn-9CT"
      }
    },
    {
      "cell_type": "code",
      "source": [
        "dict1 = {\"value1\": 1.6, \"value2\": 10, \"name\": \"John Doe\"}\n",
        "\n",
        "print(f\"keys: {dict1.keys()}\")\n",
        "print(f\"values: {dict1.values()}\")\n",
        "print(f\"items: {dict1.items()}\")"
      ],
      "metadata": {
        "colab": {
          "base_uri": "https://localhost:8080/"
        },
        "id": "HlypMw3l-6VG",
        "outputId": "012aa510-7a04-446d-8df7-303d3bc1661a"
      },
      "execution_count": null,
      "outputs": [
        {
          "output_type": "stream",
          "name": "stdout",
          "text": [
            "keys: dict_keys(['value1', 'value2', 'name'])\n",
            "values: dict_values([1.6, 10, 'John Doe'])\n",
            "items: dict_items([('value1', 1.6), ('value2', 10), ('name', 'John Doe')])\n"
          ]
        }
      ]
    },
    {
      "cell_type": "markdown",
      "source": [
        "`dict.get()`\n",
        "\n",
        "Returns `None` if key is not in dict. However, you can also specify default return value which will be returned if key is not present in the dict."
      ],
      "metadata": {
        "id": "iJdR2ikQ_NKE"
      }
    },
    {
      "cell_type": "code",
      "source": [
        "my_dict = {\"a\": 1, \"b\": 2, \"c\": 3}\n",
        "value_of_d = my_dict.get(\"d\")\n",
        "print(f\"d: {value_of_d}\")\n",
        "\n",
        "value_of_d = my_dict.get(\"d\", \"my default value\")\n",
        "print(f\"d: {value_of_d}\")"
      ],
      "metadata": {
        "colab": {
          "base_uri": "https://localhost:8080/"
        },
        "id": "3oQYDygl_gWM",
        "outputId": "118fa20b-cd0f-4420-de90-9fb875a472e4"
      },
      "execution_count": null,
      "outputs": [
        {
          "output_type": "stream",
          "name": "stdout",
          "text": [
            "d: None\n",
            "d: my default value\n"
          ]
        }
      ]
    },
    {
      "cell_type": "markdown",
      "source": [
        "`dict.pop()`"
      ],
      "metadata": {
        "id": "_6EciLGi_svZ"
      }
    },
    {
      "cell_type": "code",
      "source": [
        "my_dict = dict(food=\"ham\", drink=\"beer\", sport=\"football\")\n",
        "print(f\"dict before pops: {my_dict}\")\n",
        "\n",
        "food = my_dict.pop(\"food\")\n",
        "print(f\"food: {food}\")\n",
        "print(f\"dict after popping food: {my_dict}\")\n",
        "\n",
        "food_again = my_dict.pop(\"food\", \"default value for food\")\n",
        "print(f\"food again: {food_again}\")\n",
        "print(f\"dict after popping food again: {my_dict}\")"
      ],
      "metadata": {
        "colab": {
          "base_uri": "https://localhost:8080/"
        },
        "id": "w87dO7HV_ys6",
        "outputId": "f1b24f80-29a3-4b50-e39b-21cfde4ddb76"
      },
      "execution_count": null,
      "outputs": [
        {
          "output_type": "stream",
          "name": "stdout",
          "text": [
            "dict before pops: {'food': 'ham', 'drink': 'beer', 'sport': 'football'}\n",
            "food: ham\n",
            "dict after popping food: {'drink': 'beer', 'sport': 'football'}\n",
            "food again: default value for food\n",
            "dict after popping food again: {'drink': 'beer', 'sport': 'football'}\n"
          ]
        }
      ]
    },
    {
      "cell_type": "markdown",
      "source": [
        "`dict.setdefault()`\n",
        "\n",
        "Returns the `value` of `key` defined as first parameter. If the `key` is not present in the dict, adds `key` with default value (second parameter)."
      ],
      "metadata": {
        "id": "ppc5dwVt__vX"
      }
    },
    {
      "cell_type": "code",
      "source": [
        "my_dict = {\"a\": 1, \"b\": 2, \"c\": 3}\n",
        "a = my_dict.setdefault(\"a\", \"my default value\")\n",
        "d = my_dict.setdefault(\"d\", \"my default value\")\n",
        "print(f\"a: {a}\\nd: {d}\\nmy_dict: {my_dict}\")"
      ],
      "metadata": {
        "colab": {
          "base_uri": "https://localhost:8080/"
        },
        "id": "t0a-sbcQAMFP",
        "outputId": "958dfceb-267e-48cf-d086-ecc232dd076a"
      },
      "execution_count": null,
      "outputs": [
        {
          "output_type": "stream",
          "name": "stdout",
          "text": [
            "a: 1\n",
            "d: my default value\n",
            "my_dict: {'a': 1, 'b': 2, 'c': 3, 'd': 'my default value'}\n"
          ]
        }
      ]
    },
    {
      "cell_type": "markdown",
      "source": [
        "More methods can be discovered [here](https://pythonworld.ru/tipy-dannyx-v-python/slovari-dict-funkcii-i-metody-slovarej.html)"
      ],
      "metadata": {
        "id": "jnUMmR5lAfbE"
      }
    },
    {
      "cell_type": "markdown",
      "source": [
        "## Practice"
      ],
      "metadata": {
        "id": "8LRGHnI_AwZd"
      }
    },
    {
      "cell_type": "markdown",
      "source": [
        "### 1. Fill the missing pieces"
      ],
      "metadata": {
        "id": "Coofyw22BmNd"
      }
    },
    {
      "cell_type": "markdown",
      "source": [
        "Fill the `____` parts of the code below."
      ],
      "metadata": {
        "id": "R6ii8lddBrle"
      }
    },
    {
      "cell_type": "code",
      "source": [
        "# Let's create an empty list\n",
        "my_list = ____\n",
        "\n",
        "# Let's add some values\n",
        "my_list.____(\"Python\")\n",
        "my_list.____(\"is ok\")\n",
        "my_list.____(\"sometimes\")\n",
        "\n",
        "# Let's remove 'sometimes'\n",
        "my_list.____(\"sometimes\")\n",
        "\n",
        "# Let's change the second item\n",
        "my_list[____] = \"is neat\""
      ],
      "metadata": {
        "id": "SS_b-fwYBtI8"
      },
      "execution_count": null,
      "outputs": []
    },
    {
      "cell_type": "markdown",
      "source": [
        "Check"
      ],
      "metadata": {
        "id": "yZ0mRx8MBySm"
      }
    },
    {
      "cell_type": "code",
      "source": [
        "assert my_list == [\"Python\", \"is neat\"]"
      ],
      "metadata": {
        "id": "rCRL1xrRBy1G"
      },
      "execution_count": null,
      "outputs": []
    },
    {
      "cell_type": "markdown",
      "source": [
        "### 2. Create a new list without modifiying the original one"
      ],
      "metadata": {
        "id": "-U9WcDaKB3Gq"
      }
    },
    {
      "cell_type": "code",
      "source": [
        "original = [\"I\", \"am\", \"learning\", \"hacking\", \"in\"]\n",
        "modified = # your code here"
      ],
      "metadata": {
        "id": "vk4_95juCAax"
      },
      "execution_count": null,
      "outputs": []
    },
    {
      "cell_type": "markdown",
      "source": [
        "Check"
      ],
      "metadata": {
        "id": "PnsXHFy0CF_S"
      }
    },
    {
      "cell_type": "code",
      "source": [
        "assert original == [\"I\", \"am\", \"learning\", \"hacking\", \"in\"]\n",
        "assert modified == [\"I\", \"am\", \"learning\", \"lists\", \"in\", \"Python\"]"
      ],
      "metadata": {
        "id": "mwAHGaVVCG5G"
      },
      "execution_count": null,
      "outputs": []
    },
    {
      "cell_type": "markdown",
      "source": [
        "### 3. Create a merged sorted list"
      ],
      "metadata": {
        "id": "h2f9f4EpCPSD"
      }
    },
    {
      "cell_type": "code",
      "source": [
        "list1 = [6, 12, 5]\n",
        "list2 = [6.2, 0, 14, 1]\n",
        "list3 = [0.9]\n",
        "\n",
        "my_list = # your code here"
      ],
      "metadata": {
        "id": "vmEEdBe0CVCk"
      },
      "execution_count": null,
      "outputs": []
    },
    {
      "cell_type": "markdown",
      "source": [
        "Check"
      ],
      "metadata": {
        "id": "VinlfvBECZza"
      }
    },
    {
      "cell_type": "code",
      "source": [
        "assert my_list == [14, 12, 6.2, 6, 5, 1, 0.9, 0]"
      ],
      "metadata": {
        "id": "vCZaxhb8CaVc"
      },
      "execution_count": null,
      "outputs": []
    },
    {
      "cell_type": "markdown",
      "source": [
        "### 4. Populating a dictionary"
      ],
      "metadata": {
        "id": "FizLQAeiCr4i"
      }
    },
    {
      "cell_type": "markdown",
      "source": [
        "Create a dictionary by using all the given variables.\n",
        "\n",
        "\n",
        "Connect first name and last name into name, all hobbies in a list of hobbies."
      ],
      "metadata": {
        "id": "ogqlUt6SC1As"
      }
    },
    {
      "cell_type": "code",
      "source": [
        "first_name = \"John\"\n",
        "last_name = \"Doe\"\n",
        "age = 82\n",
        "favorite_hobby = \"Python\"\n",
        "sports_hobby = \"gym\"\n",
        "my_dict = dict()\n",
        "# your code here"
      ],
      "metadata": {
        "id": "-S23yCZpC_uR"
      },
      "execution_count": null,
      "outputs": []
    },
    {
      "cell_type": "markdown",
      "source": [
        "Check"
      ],
      "metadata": {
        "id": "kv5spOc1DHOQ"
      }
    },
    {
      "cell_type": "code",
      "source": [
        "assert my_dict == {\"name\": \"John Doe\", \"age\": 82, \"hobbies\": [\"Python\", \"gym\"]}"
      ],
      "metadata": {
        "id": "W5pECRy-DMCc"
      },
      "execution_count": null,
      "outputs": []
    },
    {
      "cell_type": "markdown",
      "source": [
        "### 5. Accessing and merging dictionaries"
      ],
      "metadata": {
        "id": "EJ1UybUhDQ1N"
      }
    },
    {
      "cell_type": "markdown",
      "source": [
        "Combine `dict1`, `dict2`, and `dict3` into `my_dict`. In addition, get the value of `special_key` from `my_dict` into a `special_value` variable. Note that original dictionaries should stay untouched and `special_key` should be removed from `my_dict`."
      ],
      "metadata": {
        "id": "AmVlYRFqEBfA"
      }
    },
    {
      "cell_type": "code",
      "source": [
        "dict1 = dict(key1=\"This is not that hard\", key2=\"Python is still cool\")\n",
        "dict2 = {\"key1\": 123, \"special_key\": \"secret\"}\n",
        "# This is also a away to initialize a dict (list of tuples)\n",
        "dict3 = dict([(\"key2\", 456), (\"keyX\", \"X\")])\n",
        "\n",
        "# your code here\n",
        "my_dict = \n",
        "special_value = "
      ],
      "metadata": {
        "id": "H3yBmHA9EAQe"
      },
      "execution_count": null,
      "outputs": []
    },
    {
      "cell_type": "markdown",
      "source": [
        "Check "
      ],
      "metadata": {
        "id": "gHgk5YYXE-C2"
      }
    },
    {
      "cell_type": "code",
      "source": [
        "assert my_dict == {\"key1\": 123, \"key2\": 456, \"keyX\": \"X\"}\n",
        "assert special_value == \"secret\"\n",
        "\n",
        "# Let's check that the originals are untouched\n",
        "assert dict1 == {\"key1\": \"This is not that hard\", \"key2\": \"Python is still cool\"}\n",
        "assert dict2 == {\"key1\": 123, \"special_key\": \"secret\"}\n",
        "assert dict3 == {\"key2\": 456, \"keyX\": \"X\"}"
      ],
      "metadata": {
        "id": "Vs4KoveLE_MC"
      },
      "execution_count": null,
      "outputs": []
    }
  ]
}