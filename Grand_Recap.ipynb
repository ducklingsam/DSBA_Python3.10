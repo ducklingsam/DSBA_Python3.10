{
  "nbformat": 4,
  "nbformat_minor": 0,
  "metadata": {
    "colab": {
      "provenance": []
    },
    "kernelspec": {
      "name": "python3",
      "display_name": "Python 3"
    },
    "language_info": {
      "name": "python"
    }
  },
  "cells": [
    {
      "cell_type": "markdown",
      "source": [
        "# Welcome to the Grand Recap.\n",
        "You are now on the finish line of the study Python. I hope you enjoyed!\n",
        "\n",
        "After completing this notebook, you will know how well you studied the Python"
      ],
      "metadata": {
        "id": "zGQw8PA4-i4x"
      }
    },
    {
      "cell_type": "markdown",
      "source": [
        "# 1. Palindrome\n",
        "\n",
        "Write a function `is_palindrome(s)` that takes a string `s` and checks if it is a palindrome."
      ],
      "metadata": {
        "id": "ShL3e_N2-8_r"
      }
    },
    {
      "cell_type": "code",
      "execution_count": null,
      "metadata": {
        "id": "vDqRRQ18-hgq"
      },
      "outputs": [],
      "source": []
    },
    {
      "cell_type": "markdown",
      "source": [
        "# 2. Count char\n",
        "\n",
        "Write a function `character_counts(s)` that takes a string `s` and returns a dictionary with the count of each character in the string."
      ],
      "metadata": {
        "id": "68tyz1dy_Ib7"
      }
    },
    {
      "cell_type": "code",
      "source": [],
      "metadata": {
        "id": "-EDTKhid_ehG"
      },
      "execution_count": null,
      "outputs": []
    },
    {
      "cell_type": "markdown",
      "source": [
        "# 3. CamelCase\n",
        "\n",
        "Write a function `camel_case(s)` that converts a given string `s` into [CamelCase](https://www.techtarget.com/whatis/definition/CamelCase#:~:text=What%20is%20CamelCase%3F,humps%20on%20a%20camel%27s%20back.)"
      ],
      "metadata": {
        "id": "J6G71ilt_jHP"
      }
    },
    {
      "cell_type": "code",
      "source": [],
      "metadata": {
        "id": "yVFmYmEH_38j"
      },
      "execution_count": null,
      "outputs": []
    },
    {
      "cell_type": "markdown",
      "source": [
        "# 4. Replace substring\n",
        "\n",
        "Write a function `find_replace(s, w, r)`, where `s` is a string, `w` - word to find, `r` - word to replace the founded word."
      ],
      "metadata": {
        "id": "EXWzmMYPADGC"
      }
    },
    {
      "cell_type": "code",
      "source": [],
      "metadata": {
        "id": "aTmecEnwAip9"
      },
      "execution_count": null,
      "outputs": []
    },
    {
      "cell_type": "markdown",
      "source": [
        "# 5. Pangram\n",
        "Write a Python function to check if a string is a [pangram](https://en.wikipedia.org/wiki/Pangram#:~:text=A%20pangram%20or%20holoalphabetic%20sentence,handwriting%2C%20calligraphy%2C%20and%20keyboarding.) or not."
      ],
      "metadata": {
        "id": "jPWTnDvtAr0R"
      }
    },
    {
      "cell_type": "code",
      "source": [],
      "metadata": {
        "id": "GwiN_Qq0BAib"
      },
      "execution_count": null,
      "outputs": []
    },
    {
      "cell_type": "markdown",
      "source": [
        "\n",
        "Implement a temperature converter that converts from Celsius to Fahrenheit and vice versa based on user input.\n",
        "Write a program that calculates and prints the value of n+nn+nnn where n is a user input single digit number."
      ],
      "metadata": {
        "id": "knlEzirsCF-4"
      }
    },
    {
      "cell_type": "markdown",
      "source": [
        "# 6. Pythagorean theorem\n",
        "\n",
        "Write a function `pythagorean_theorem(a, b)` to implement the Pythagorean theorem, where `a` is length of side A and `b` is the length of side B."
      ],
      "metadata": {
        "id": "XkFn3XMlCsR7"
      }
    },
    {
      "cell_type": "code",
      "source": [],
      "metadata": {
        "id": "aqSqGiiAC7tp"
      },
      "execution_count": null,
      "outputs": []
    },
    {
      "cell_type": "markdown",
      "source": [
        "# 7. Temperature Converter\n",
        "\n",
        "Implement a temperature converter function `convert_temperature(a, c)` that converts from Celsius to Fahrenheit and vice versa based on input. Where `a` - is a temperature value, `c` - `'C'` if the given `a` is in Celcius or `'F'` if - in Fahrenheit "
      ],
      "metadata": {
        "id": "8hW8vIqTC_mA"
      }
    }
  ]
}