{
  "nbformat": 4,
  "nbformat_minor": 0,
  "metadata": {
    "colab": {
      "provenance": [],
      "toc_visible": true
    },
    "kernelspec": {
      "name": "python3",
      "display_name": "Python 3"
    },
    "language_info": {
      "name": "python"
    }
  },
  "cells": [
    {
      "cell_type": "markdown",
      "source": [
        "# Welcome to the DSBA Introduction to Programming: Python course!\n",
        "You will learn not only the basics of Python programming, but also some useful libraries that you will need in the future.\n",
        "\n",
        "Let's begin by examining strings and their methods"
      ],
      "metadata": {
        "id": "5u8J7qsgRiJr"
      }
    },
    {
      "cell_type": "markdown",
      "source": [
        "## Theory"
      ],
      "metadata": {
        "id": "-EglX3DVHBsR"
      }
    },
    {
      "cell_type": "markdown",
      "source": [
        "### String"
      ],
      "metadata": {
        "id": "_fwnRnw39-JE"
      }
    },
    {
      "cell_type": "markdown",
      "source": [
        "In order to declare a string, we have to think of the name for it and what information it will contain. Let the name be ***my_string*** and it will contain ***Hello, world!***"
      ],
      "metadata": {
        "id": "cbKuNPAn25XS"
      }
    },
    {
      "cell_type": "markdown",
      "source": [
        "Keep in mind that \n",
        "\n",
        "*   A variable name must start with a letter or the underscore character;\n",
        "*   A variable name cannot start with a number\n",
        "*  A variable name can only contain alpha-numeric characters and underscores (A-z, 0-9, and _ )\n",
        "\n",
        "And also, every string information should be in **quotation marks**"
      ],
      "metadata": {
        "id": "kb8HJzgW3rsZ"
      }
    },
    {
      "cell_type": "code",
      "execution_count": null,
      "metadata": {
        "id": "Lm3caILYRgah"
      },
      "outputs": [],
      "source": [
        "my_string = \"Hello, world!\""
      ]
    },
    {
      "cell_type": "markdown",
      "source": [
        "In Jupyter Notebooks, we can just write the name of the variable in order to print the information it contains. Note that Jupyter Noteboook will return only the last called variable.\n",
        "\n",
        "\n",
        "```\n",
        "hello_string = \"Hello\"\n",
        "world_string = \"world!\"\n",
        "hello_string\n",
        "world_string\n",
        "```\n",
        "So, Jupyter Notebook will return only world_string\n",
        "```\n",
        "'world!' \n",
        "```\n",
        "\n",
        "\n"
      ],
      "metadata": {
        "id": "xVvyivGJ4Qdw"
      }
    },
    {
      "cell_type": "code",
      "source": [
        "my_string"
      ],
      "metadata": {
        "colab": {
          "base_uri": "https://localhost:8080/",
          "height": 35
        },
        "id": "mcmOwEaF42y4",
        "outputId": "3df780f3-4df9-4fbb-a123-815c2ce79e9d"
      },
      "execution_count": null,
      "outputs": [
        {
          "output_type": "execute_result",
          "data": {
            "text/plain": [
              "'Hello, world!'"
            ],
            "application/vnd.google.colaboratory.intrinsic+json": {
              "type": "string"
            }
          },
          "metadata": {},
          "execution_count": 3
        }
      ]
    },
    {
      "cell_type": "markdown",
      "source": [
        "If you are not sure about the type of the variable, you can easily it check with *type()* function\n",
        "\n",
        "* str - string\n",
        "* int - integer\n",
        "* float - double\n",
        "* etc."
      ],
      "metadata": {
        "id": "1G4DSEusRhVY"
      }
    },
    {
      "cell_type": "code",
      "source": [
        "type(my_string)"
      ],
      "metadata": {
        "colab": {
          "base_uri": "https://localhost:8080/"
        },
        "id": "Oq3GIx5L5PmQ",
        "outputId": "73b320bc-02da-42d4-8aca-9027b767b6ba"
      },
      "execution_count": null,
      "outputs": [
        {
          "output_type": "execute_result",
          "data": {
            "text/plain": [
              "str"
            ]
          },
          "metadata": {},
          "execution_count": 4
        }
      ]
    },
    {
      "cell_type": "markdown",
      "source": [
        "You can also find out how long your string is with the *len()* function"
      ],
      "metadata": {
        "id": "MnPcjA_L5lL5"
      }
    },
    {
      "cell_type": "code",
      "source": [
        "len(my_string)"
      ],
      "metadata": {
        "colab": {
          "base_uri": "https://localhost:8080/"
        },
        "id": "IMH7DxX6906z",
        "outputId": "c675bbf4-39be-40ec-920c-0d21e5e249a4"
      },
      "execution_count": null,
      "outputs": [
        {
          "output_type": "execute_result",
          "data": {
            "text/plain": [
              "13"
            ]
          },
          "metadata": {},
          "execution_count": 5
        }
      ]
    },
    {
      "cell_type": "markdown",
      "source": [
        "Note that all inputs are string!"
      ],
      "metadata": {
        "id": "dkND3UWERGe0"
      }
    },
    {
      "cell_type": "code",
      "source": [
        "s = input()\n",
        "print(type(s))"
      ],
      "metadata": {
        "id": "FoTYKq2QRByr"
      },
      "execution_count": null,
      "outputs": []
    },
    {
      "cell_type": "markdown",
      "source": [
        "### Respecting [PEP8](https://www.python.org/dev/peps/pep-0008/#maximum-line-length) with long strings"
      ],
      "metadata": {
        "id": "r1CHV5nt-B5o"
      }
    },
    {
      "cell_type": "code",
      "source": [
        "long_story = (\n",
        "    \"Lorem ipsum dolor sit amet, consectetur adipiscing elit.\"\n",
        "    \"Pellentesque eget tincidunt felis. Ut ac vestibulum est.\"\n",
        "    \"In sed ipsum sit amet sapien scelerisque bibendum. Sed \"\n",
        "    \"sagittis purus eu diam fermentum pellentesque.\"\n",
        ")\n",
        "long_story"
      ],
      "metadata": {
        "colab": {
          "base_uri": "https://localhost:8080/",
          "height": 52
        },
        "id": "I1zVQIhr-TfX",
        "outputId": "10e73a54-122b-43d8-e0ce-934bf95dd935"
      },
      "execution_count": null,
      "outputs": [
        {
          "output_type": "execute_result",
          "data": {
            "text/plain": [
              "'Lorem ipsum dolor sit amet, consectetur adipiscing elit.Pellentesque eget tincidunt felis. Ut ac vestibulum est.In sed ipsum sit amet sapien scelerisque bibendum. Sed sagittis purus eu diam fermentum pellentesque.'"
            ],
            "application/vnd.google.colaboratory.intrinsic+json": {
              "type": "string"
            }
          },
          "metadata": {},
          "execution_count": 6
        }
      ]
    },
    {
      "cell_type": "markdown",
      "source": [
        "### Other functions and methods"
      ],
      "metadata": {
        "id": "p64V9sJ9_PwI"
      }
    },
    {
      "cell_type": "markdown",
      "source": [
        "In addition to the *len()* function, there are also the following basic functions\n",
        "\n",
        "| Function or method | Description                     |\n",
        "|--------------------|---------------------------------|\n",
        "| S1 + S2            | Concatenation (string addition) |\n",
        "| S1 * 5             | String repetition               |\n",
        "| S1[i]              | Index reference                 |\n",
        "| S1[i:j:step]       | Cut Extraction                  |"
      ],
      "metadata": {
        "id": "ie2l09Ek_opF"
      }
    },
    {
      "cell_type": "code",
      "source": [
        "s1 = \"I love Python \"\n",
        "s2 = \"and DSBA\""
      ],
      "metadata": {
        "id": "FMBMMe3E_VMD"
      },
      "execution_count": null,
      "outputs": []
    },
    {
      "cell_type": "code",
      "source": [
        "s1 + s2"
      ],
      "metadata": {
        "colab": {
          "base_uri": "https://localhost:8080/",
          "height": 35
        },
        "id": "Im6Qnu01A6ac",
        "outputId": "633dea43-6845-4cf1-b0c4-5133df9a2d9a"
      },
      "execution_count": null,
      "outputs": [
        {
          "output_type": "execute_result",
          "data": {
            "text/plain": [
              "'I love Python and DSBA'"
            ],
            "application/vnd.google.colaboratory.intrinsic+json": {
              "type": "string"
            }
          },
          "metadata": {},
          "execution_count": 10
        }
      ]
    },
    {
      "cell_type": "code",
      "source": [
        "s1 * 5"
      ],
      "metadata": {
        "colab": {
          "base_uri": "https://localhost:8080/",
          "height": 35
        },
        "id": "PHOpXp6BBEv6",
        "outputId": "2b2253b8-bd58-4e1d-c152-fd7f40e10b09"
      },
      "execution_count": null,
      "outputs": [
        {
          "output_type": "execute_result",
          "data": {
            "text/plain": [
              "'I love Python I love Python I love Python I love Python I love Python '"
            ],
            "application/vnd.google.colaboratory.intrinsic+json": {
              "type": "string"
            }
          },
          "metadata": {},
          "execution_count": 11
        }
      ]
    },
    {
      "cell_type": "code",
      "source": [
        "s1[0]"
      ],
      "metadata": {
        "colab": {
          "base_uri": "https://localhost:8080/",
          "height": 35
        },
        "id": "dPZf7Gc4BJ4T",
        "outputId": "bab95c2f-9110-4a91-d265-e7dc0f608ca1"
      },
      "execution_count": null,
      "outputs": [
        {
          "output_type": "execute_result",
          "data": {
            "text/plain": [
              "'I'"
            ],
            "application/vnd.google.colaboratory.intrinsic+json": {
              "type": "string"
            }
          },
          "metadata": {},
          "execution_count": 12
        }
      ]
    },
    {
      "cell_type": "code",
      "source": [
        "s1[0:6:2]"
      ],
      "metadata": {
        "colab": {
          "base_uri": "https://localhost:8080/",
          "height": 35
        },
        "id": "l0ME6-cUBOHG",
        "outputId": "8f5bc99a-4ba6-4417-9ef6-3378651b764b"
      },
      "execution_count": null,
      "outputs": [
        {
          "output_type": "execute_result",
          "data": {
            "text/plain": [
              "'Ilv'"
            ],
            "application/vnd.google.colaboratory.intrinsic+json": {
              "type": "string"
            }
          },
          "metadata": {},
          "execution_count": 15
        }
      ]
    },
    {
      "cell_type": "markdown",
      "source": [
        "However, the step is not neccesary to use. If you need only the cut, you can do the following\n",
        "\n",
        "Code:\n",
        "```\n",
        "s1[1:5]\n",
        "```\n",
        "Output:\n",
        "```\n",
        "' lov'\n",
        "```\n",
        "\n",
        "Keep in mind, that all indices **start with 0** and it will **cut to j-1**\n",
        "\n",
        "You can also use the negative indices, and it will start from the end.\n",
        "\n",
        "Code:\n",
        "```\n",
        "s2[-1]\n",
        "```\n",
        "Output:\n",
        "\n",
        "```\n",
        "'A'\n",
        "```\n",
        "\n",
        "\n"
      ],
      "metadata": {
        "id": "foAR6ypsBVXz"
      }
    },
    {
      "cell_type": "code",
      "source": [
        "s2[::-1] # this is how we reverse the string"
      ],
      "metadata": {
        "colab": {
          "base_uri": "https://localhost:8080/",
          "height": 35
        },
        "id": "GaB75hqtCFGg",
        "outputId": "8bbe37ec-2527-4bcc-c44b-b0f9d1e34530"
      },
      "execution_count": null,
      "outputs": [
        {
          "output_type": "execute_result",
          "data": {
            "text/plain": [
              "'ABSD dna'"
            ],
            "application/vnd.google.colaboratory.intrinsic+json": {
              "type": "string"
            }
          },
          "metadata": {},
          "execution_count": 16
        }
      ]
    },
    {
      "cell_type": "markdown",
      "source": [
        "More useful functions and methods you can find by following [this](https://pythonworld.ru/tipy-dannyx-v-python/stroki-funkcii-i-metody-strok.html) link"
      ],
      "metadata": {
        "id": "DtT1iTW0C0NZ"
      }
    },
    {
      "cell_type": "markdown",
      "source": [
        "### f-string"
      ],
      "metadata": {
        "id": "jukNe890DDCd"
      }
    },
    {
      "cell_type": "markdown",
      "source": [
        "Suppose you you want to print your First name and your Last name. Of course, you can simply use:\n",
        "\n",
        "```\n",
        "print(\"My name is John Doe. I'm 88 years old\")\n",
        "```\n",
        "But what if you have changing variable? Or, what if tommorow is your birthday? In order not to change all the string, we can use **f-string**\n"
      ],
      "metadata": {
        "id": "TRmhHCm-DJ9l"
      }
    },
    {
      "cell_type": "code",
      "source": [
        "first_name = \"John\"\n",
        "last_name = \"Doe\"\n",
        "age = 88\n",
        "print(f\"My name is {first_name} {last_name}, you can call me {first_name}.\")\n",
        "print(f\"I'm {age} years old.\")"
      ],
      "metadata": {
        "colab": {
          "base_uri": "https://localhost:8080/"
        },
        "id": "-LvIQurYC9_c",
        "outputId": "b3a4f73b-a658-4836-80bd-4621679fa8d5"
      },
      "execution_count": null,
      "outputs": [
        {
          "output_type": "stream",
          "name": "stdout",
          "text": [
            "My name is John Doe, you can call me John.\n",
            "I'm 88 years old.\n"
          ]
        }
      ]
    },
    {
      "cell_type": "code",
      "source": [
        "print(f\"Use '=' to also print the variable name like this: {age=}\")"
      ],
      "metadata": {
        "colab": {
          "base_uri": "https://localhost:8080/"
        },
        "id": "JWNNv81sEdnE",
        "outputId": "2dd2fb3b-dec3-4549-c7df-7374a7312fa1"
      },
      "execution_count": null,
      "outputs": [
        {
          "output_type": "stream",
          "name": "stdout",
          "text": [
            "Use '=' to also print the variable name like this: age=88\n"
          ]
        }
      ]
    },
    {
      "cell_type": "markdown",
      "source": [
        "### s.split()"
      ],
      "metadata": {
        "id": "_RtS3FgLEo8L"
      }
    },
    {
      "cell_type": "markdown",
      "source": [
        "Sometimes we need to split the given string to words. How we can easily do this? By using *split()* method"
      ],
      "metadata": {
        "id": "2UFKmPCgEs47"
      }
    },
    {
      "cell_type": "code",
      "source": [
        "sentence = \"three different words\"\n",
        "words = sentence.split()\n",
        "print(words)"
      ],
      "metadata": {
        "colab": {
          "base_uri": "https://localhost:8080/"
        },
        "id": "rFF171ouFIn6",
        "outputId": "e7ea1c6a-c393-4cec-8ce8-34c9947cb396"
      },
      "execution_count": null,
      "outputs": [
        {
          "output_type": "stream",
          "name": "stdout",
          "text": [
            "['three', 'different', 'words']\n"
          ]
        }
      ]
    },
    {
      "cell_type": "markdown",
      "source": [
        "split() from string makes list of the words by space delimiter but if the we need to split it by comma? "
      ],
      "metadata": {
        "id": "TbOPtET2F_Ue"
      }
    },
    {
      "cell_type": "code",
      "source": [
        "type(words)"
      ],
      "metadata": {
        "colab": {
          "base_uri": "https://localhost:8080/"
        },
        "id": "KYgs6s-DGSU0",
        "outputId": "5185843d-316c-4408-ad90-1f110828c859"
      },
      "execution_count": null,
      "outputs": [
        {
          "output_type": "execute_result",
          "data": {
            "text/plain": [
              "list"
            ]
          },
          "metadata": {},
          "execution_count": 20
        }
      ]
    },
    {
      "cell_type": "code",
      "source": [
        "secret_binary_data = \"01001,101101,11100000\"\n",
        "binaries = secret_binary_data.split(',')\n",
        "print(binaries)"
      ],
      "metadata": {
        "colab": {
          "base_uri": "https://localhost:8080/"
        },
        "id": "CocbZnC2GUch",
        "outputId": "4041244e-7ec8-4def-d02f-24419fff12b8"
      },
      "execution_count": null,
      "outputs": [
        {
          "output_type": "stream",
          "name": "stdout",
          "text": [
            "['01001', '101101', '11100000']\n"
          ]
        }
      ]
    },
    {
      "cell_type": "markdown",
      "source": [
        "### Calling multiple methods in a row"
      ],
      "metadata": {
        "id": "UmeYmqAiGgJd"
      }
    },
    {
      "cell_type": "code",
      "source": [
        "ugly_mixed_case = \"   ThIS LooKs BAd \"\n",
        "pretty = ugly_mixed_case.strip().lower().replace(\"bad\", \"good\")\n",
        "print(pretty)"
      ],
      "metadata": {
        "colab": {
          "base_uri": "https://localhost:8080/"
        },
        "id": "sndrUsgxGhbS",
        "outputId": "d43f00e9-a5b8-4766-eaf0-7217530d3732"
      },
      "execution_count": null,
      "outputs": [
        {
          "output_type": "stream",
          "name": "stdout",
          "text": [
            "this looks good\n"
          ]
        }
      ]
    },
    {
      "cell_type": "markdown",
      "source": [
        "Note that execution order is from left to right. Thus, this won't work as expected:"
      ],
      "metadata": {
        "id": "sKFLHd3FGoWK"
      }
    },
    {
      "cell_type": "code",
      "source": [
        "pretty = ugly_mixed_case.replace(\"bad\", \"good\").strip().lower()\n",
        "print(pretty)"
      ],
      "metadata": {
        "colab": {
          "base_uri": "https://localhost:8080/"
        },
        "id": "x0W08umDGmRD",
        "outputId": "85393494-4710-48fb-b875-cf9361474ad4"
      },
      "execution_count": null,
      "outputs": [
        {
          "output_type": "stream",
          "name": "stdout",
          "text": [
            "this looks bad\n"
          ]
        }
      ]
    },
    {
      "cell_type": "markdown",
      "source": [
        "## Exercises"
      ],
      "metadata": {
        "id": "2R1e7YxOHESJ"
      }
    },
    {
      "cell_type": "markdown",
      "source": [
        "### 1. Fill missing pieces\n"
      ],
      "metadata": {
        "id": "LZkJdnn_Hbh8"
      }
    },
    {
      "cell_type": "markdown",
      "source": [
        "Fill ____ pieces below to have correct values for ***lower_cased***, ***stripped*** and ***stripped_lower_case*** variables."
      ],
      "metadata": {
        "id": "57NDm7VEHor5"
      }
    },
    {
      "cell_type": "code",
      "source": [
        "original = \" Python strings are COOL! \"\n",
        "lower_cased = original._____\n",
        "stripped = ____.strip()\n",
        "stripped_lower_cased = original._____._____"
      ],
      "metadata": {
        "id": "Jk8FBAP_HlLL"
      },
      "execution_count": null,
      "outputs": []
    },
    {
      "cell_type": "markdown",
      "source": [
        "Let's verify that the implementation is correct by running the cell below. assert will raise AssertionError if the statement is not true."
      ],
      "metadata": {
        "id": "Vwcwf9vuIJUN"
      }
    },
    {
      "cell_type": "code",
      "source": [
        "assert lower_cased == \" python strings are cool! \"\n",
        "assert stripped == \"Python strings are COOL!\"\n",
        "assert stripped_lower_cased == \"python strings are cool!\""
      ],
      "metadata": {
        "id": "tS_bowU0H3uo"
      },
      "execution_count": null,
      "outputs": []
    },
    {
      "cell_type": "markdown",
      "source": [
        "### 2. Prettify ugly string"
      ],
      "metadata": {
        "id": "s-DHgW_YIgB-"
      }
    },
    {
      "cell_type": "markdown",
      "source": [
        "Use str methods to convert ugly to wanted pretty."
      ],
      "metadata": {
        "id": "iiddtVdGJOiw"
      }
    },
    {
      "cell_type": "code",
      "source": [
        "ugly = \" tiTle of MY new Book\\n\\n\"\n",
        "\n",
        "pretty =\n",
        "# Your Code"
      ],
      "metadata": {
        "id": "b6m1cReyIhJw"
      },
      "execution_count": null,
      "outputs": []
    },
    {
      "cell_type": "code",
      "source": [
        "print(f\"pretty: {pretty}\")\n",
        "assert pretty == \"Title Of My New Book\""
      ],
      "metadata": {
        "id": "gLSbskXMIt0Z"
      },
      "execution_count": null,
      "outputs": []
    },
    {
      "cell_type": "markdown",
      "source": [
        "### 3. All odd letters"
      ],
      "metadata": {
        "id": "Su2gDfBOJGaV"
      }
    },
    {
      "cell_type": "markdown",
      "source": [
        "Print all letters with odd indices and capitalize them"
      ],
      "metadata": {
        "id": "lf4zDdj5JQQg"
      }
    },
    {
      "cell_type": "code",
      "source": [
        "name = \"James\"\n",
        "odd_letters = # your code"
      ],
      "metadata": {
        "id": "K30oVJAVJFyd"
      },
      "execution_count": null,
      "outputs": []
    },
    {
      "cell_type": "code",
      "source": [
        "assert odd_letters == \"JMS\""
      ],
      "metadata": {
        "id": "l46srnVlJ-cj"
      },
      "execution_count": null,
      "outputs": []
    },
    {
      "cell_type": "markdown",
      "source": [
        "###  4. Append new string in the middle of a given string"
      ],
      "metadata": {
        "id": "SdKsPH3rKg1Q"
      }
    },
    {
      "cell_type": "markdown",
      "source": [
        "Given two strings, s1 and s2. Write a program to create a new string s3 by appending s2 in the middle of s1."
      ],
      "metadata": {
        "id": "g06q5Hj5K025"
      }
    },
    {
      "cell_type": "code",
      "source": [
        "s1 = \"Ault\"\n",
        "s2 = \"Kelly\"\n",
        "mid_of_s1 = int(len(s1) / 2)\n",
        "s3 = # Your Code"
      ],
      "metadata": {
        "id": "aisfN66oK22U"
      },
      "execution_count": null,
      "outputs": []
    },
    {
      "cell_type": "code",
      "source": [
        "assert s3 == \"AuKellylt\""
      ],
      "metadata": {
        "id": "fukPuoqKK9LU"
      },
      "execution_count": null,
      "outputs": []
    }
  ]
}